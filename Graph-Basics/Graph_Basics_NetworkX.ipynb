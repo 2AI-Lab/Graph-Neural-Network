{
  "nbformat": 4,
  "nbformat_minor": 0,
  "metadata": {
    "colab": {
      "provenance": []
    },
    "kernelspec": {
      "name": "python3",
      "display_name": "Python 3"
    },
    "language_info": {
      "name": "python"
    }
  },
  "cells": [
    {
      "cell_type": "markdown",
      "source": [
        "# Basics of Graphs construction with the Python Library - 'NetworkX'.\n",
        "\n",
        "[NetworkX](https://networkx.org/) is a Python library for studying graphs and networks."
      ],
      "metadata": {
        "id": "WKTkvqznRLM1"
      }
    },
    {
      "cell_type": "markdown",
      "source": [
        "Creating Graphs with NetworkX"
      ],
      "metadata": {
        "id": "kYF4ehJwmDzK"
      }
    },
    {
      "cell_type": "code",
      "execution_count": 4,
      "metadata": {
        "id": "AdPWZ1sbl9ZR"
      },
      "outputs": [],
      "source": [
        "import matplotlib\n",
        "matplotlib.rcParams['figure.figsize'] = (3, 3)"
      ]
    },
    {
      "cell_type": "markdown",
      "source": [
        "An empty graph can be created with nx.Graph()"
      ],
      "metadata": {
        "id": "hrw5aQImmSex"
      }
    },
    {
      "cell_type": "code",
      "source": [
        "import networkx as nx\n",
        "\n",
        "G = nx.Graph()\n",
        "len(G)"
      ],
      "metadata": {
        "colab": {
          "base_uri": "https://localhost:8080/"
        },
        "id": "JwaR1cKNmHhS",
        "outputId": "09bcc584-455f-4bca-efeb-2a28b1388985"
      },
      "execution_count": 5,
      "outputs": [
        {
          "output_type": "execute_result",
          "data": {
            "text/plain": [
              "0"
            ]
          },
          "metadata": {},
          "execution_count": 5
        }
      ]
    },
    {
      "cell_type": "markdown",
      "source": [
        "# Adding Nodes\n",
        "\n",
        "Two main functions can be used to add nodes to the graph.\n",
        "\n",
        "*   G.add_node(n)\n",
        "*   G.add_nodes_from([n1,n2,...])\n",
        "\n",
        "XWe can inspect the nodes in a graph using the G.nodes property."
      ],
      "metadata": {
        "id": "SEP7CaAwndaT"
      }
    },
    {
      "cell_type": "code",
      "source": [
        "G.add_node(1)\n",
        "G.add_nodes_from([2,3,4,5])\n",
        "\n",
        "# inspecting the existing nodes\n",
        "print(\"Nodes: \", G.nodes)\n",
        "\n",
        "# draw the graph\n",
        "nx.draw(G)"
      ],
      "metadata": {
        "colab": {
          "base_uri": "https://localhost:8080/",
          "height": 265
        },
        "id": "b6_6HoZUnbLU",
        "outputId": "3aa4c37a-8e92-4eef-894b-86cf3127e19a"
      },
      "execution_count": 6,
      "outputs": [
        {
          "output_type": "stream",
          "name": "stdout",
          "text": [
            "Nodes:  [1, 2, 3, 4, 5]\n"
          ]
        },
        {
          "output_type": "display_data",
          "data": {
            "text/plain": [
              "<Figure size 216x216 with 1 Axes>"
            ],
            "image/png": "[encoded data removed]"
          },
          "metadata": {}
        }
      ]
    },
    {
      "cell_type": "markdown",
      "source": [
        "# Adding Edges\n",
        "Two main functions can be used to add edges to the graph.\n",
        "\n",
        "*   G.add_edge(n)\n",
        "*   G.add_edges_from([n1,n2,...])\n",
        "\n",
        "We can inspect the edges in a graph using the G.edges property"
      ],
      "metadata": {
        "id": "aRqgHrS9n0Jk"
      }
    },
    {
      "cell_type": "code",
      "source": [
        "G.add_edge(1,2)\n",
        "G.add_edges_from([(1,3), (2,4), (1,4)])\n",
        "\n",
        "# inspect existing edges\n",
        "print(\"Edges: \", G.edges)\n",
        "\n",
        "# draw the graph\n",
        "nx.draw(G)"
      ],
      "metadata": {
        "colab": {
          "base_uri": "https://localhost:8080/",
          "height": 265
        },
        "id": "XRAYk2G2nxd1",
        "outputId": "4bb93a20-5af1-4d88-d4d3-c221d4578422"
      },
      "execution_count": 7,
      "outputs": [
        {
          "output_type": "stream",
          "name": "stdout",
          "text": [
            "Edges:  [(1, 2), (1, 3), (1, 4), (2, 4)]\n"
          ]
        },
        {
          "output_type": "display_data",
          "data": {
            "text/plain": [
              "<Figure size 216x216 with 1 Axes>"
            ],
            "image/png": "[encoded data removed]"
          },
          "metadata": {}
        }
      ]
    },
    {
      "cell_type": "markdown",
      "source": [
        "# Removing Nodes and Edges\n",
        "\n",
        "Edges can be removed with: G.remove_edge(node1, node2)\n",
        "\n",
        "Nodes can be removed with: G.remove_node(node)"
      ],
      "metadata": {
        "id": "T43reM3worLm"
      }
    },
    {
      "cell_type": "code",
      "source": [
        "G.remove_edge(2,4)\n",
        "nx.draw(G)"
      ],
      "metadata": {
        "colab": {
          "base_uri": "https://localhost:8080/",
          "height": 247
        },
        "id": "uisVBW8eojj2",
        "outputId": "a25380b5-dfc2-444c-9cfc-ab91684bd5a3"
      },
      "execution_count": 8,
      "outputs": [
        {
          "output_type": "display_data",
          "data": {
            "text/plain": [
              "<Figure size 216x216 with 1 Axes>"
            ],
            "image/png": "[encoded data removed]"
          },
          "metadata": {}
        }
      ]
    },
    {
      "cell_type": "markdown",
      "source": [
        "# Inspecting the Graph\n",
        "4 main properties:\n",
        "\n",
        "* G.nodes - view of the nodes/vertices in the graph\n",
        "* G.edges - view of the edges in the graph\n",
        "* G.adj - view of the neighbours that exist in the graph\n",
        "* G.degree - view of the degrees of nodes in the graph"
      ],
      "metadata": {
        "id": "RsBloB--o66W"
      }
    },
    {
      "cell_type": "code",
      "source": [
        "# degree view\n",
        "G.degree\n",
        "\n",
        "# sort by highest degree first:\n",
        "# sorted(G.degree, key=lambda x: x[1], reverse=True)"
      ],
      "metadata": {
        "colab": {
          "base_uri": "https://localhost:8080/"
        },
        "id": "fkohC-CGoySG",
        "outputId": "42ccf2cc-5e9b-4e94-9756-96d755ff8d0e"
      },
      "execution_count": 9,
      "outputs": [
        {
          "output_type": "execute_result",
          "data": {
            "text/plain": [
              "DegreeView({1: 3, 2: 1, 3: 1, 4: 1, 5: 0})"
            ]
          },
          "metadata": {},
          "execution_count": 9
        }
      ]
    },
    {
      "cell_type": "code",
      "source": [
        "# adjacency/neighbor view\n",
        "print(G.adj)"
      ],
      "metadata": {
        "colab": {
          "base_uri": "https://localhost:8080/"
        },
        "id": "Qch5PgbI0OOE",
        "outputId": "5d6f0bb4-b86b-4a20-bb1e-9909f56ce6f2"
      },
      "execution_count": 10,
      "outputs": [
        {
          "output_type": "stream",
          "name": "stdout",
          "text": [
            "{1: {2: {}, 3: {}, 4: {}}, 2: {1: {}}, 3: {1: {}}, 4: {1: {}}, 5: {}}\n"
          ]
        }
      ]
    },
    {
      "cell_type": "code",
      "source": [
        "list(G.neighbors(1))"
      ],
      "metadata": {
        "colab": {
          "base_uri": "https://localhost:8080/"
        },
        "id": "cjvfSSL30QTE",
        "outputId": "f10f0b11-b182-4e04-d885-13bac7f8d8c9"
      },
      "execution_count": 11,
      "outputs": [
        {
          "output_type": "execute_result",
          "data": {
            "text/plain": [
              "[2, 3, 4]"
            ]
          },
          "metadata": {},
          "execution_count": 11
        }
      ]
    },
    {
      "cell_type": "markdown",
      "source": [
        "# Computing Graph Laplacian Matrix"
      ],
      "metadata": {
        "id": "68SMGK2q0UuH"
      }
    },
    {
      "cell_type": "code",
      "source": [
        "import networkx as nx\n",
        "import numpy as np"
      ],
      "metadata": {
        "id": "cZoC7gJ40RsE"
      },
      "execution_count": 12,
      "outputs": []
    },
    {
      "cell_type": "markdown",
      "source": [
        "Let's generate G, a random regular graph, for the purposes of this tutorial."
      ],
      "metadata": {
        "id": "xXVNJqgO0wAm"
      }
    },
    {
      "cell_type": "code",
      "source": [
        "G = nx.random_regular_graph(3, 10)\n",
        "nx.draw(G)"
      ],
      "metadata": {
        "colab": {
          "base_uri": "https://localhost:8080/",
          "height": 247
        },
        "id": "l_1O4aIX0sEV",
        "outputId": "bfd11d7c-ef4f-4fbe-8fd5-f911ccf883b2"
      },
      "execution_count": 13,
      "outputs": [
        {
          "output_type": "display_data",
          "data": {
            "text/plain": [
              "<Figure size 216x216 with 1 Axes>"
            ],
            "image/png": "[encoded data removed]"
          },
          "metadata": {}
        }
      ]
    },
    {
      "cell_type": "markdown",
      "source": [
        "We can now compute the Laplacian matrix, L, using the formula: ***L = D - A.***\n",
        "\n",
        "D = the degree matrix of G\n",
        "A = the adjacency matrix of G"
      ],
      "metadata": {
        "id": "S_nNJwmh1BbW"
      }
    },
    {
      "cell_type": "code",
      "source": [
        "# note: toarray() converts from sparse array -> dense numpy array\n",
        "A = nx.adjacency_matrix(G).toarray() \n",
        "D = np.diag(np.ones(10) * 3)\n",
        "L = D - A\n",
        "\n",
        "L"
      ],
      "metadata": {
        "colab": {
          "base_uri": "https://localhost:8080/"
        },
        "id": "TiQyE3221Fy1",
        "outputId": "4dde53cd-73f6-4355-d1ca-ccf0fd534ff4"
      },
      "execution_count": 14,
      "outputs": [
        {
          "output_type": "execute_result",
          "data": {
            "text/plain": [
              "array([[ 3., -1.,  0.,  0.,  0.,  0., -1.,  0.,  0., -1.],\n",
              "       [-1.,  3.,  0.,  0., -1.,  0.,  0.,  0., -1.,  0.],\n",
              "       [ 0.,  0.,  3., -1.,  0.,  0.,  0., -1., -1.,  0.],\n",
              "       [ 0.,  0., -1.,  3., -1.,  0.,  0.,  0.,  0., -1.],\n",
              "       [ 0., -1.,  0., -1.,  3.,  0.,  0., -1.,  0.,  0.],\n",
              "       [ 0.,  0.,  0.,  0.,  0.,  3., -1., -1., -1.,  0.],\n",
              "       [-1.,  0.,  0.,  0.,  0., -1.,  3.,  0.,  0., -1.],\n",
              "       [ 0.,  0., -1.,  0., -1., -1.,  0.,  3.,  0.,  0.],\n",
              "       [ 0., -1., -1.,  0.,  0., -1.,  0.,  0.,  3.,  0.],\n",
              "       [-1.,  0.,  0., -1.,  0.,  0., -1.,  0.,  0.,  3.]])"
            ]
          },
          "metadata": {},
          "execution_count": 14
        }
      ]
    },
    {
      "cell_type": "markdown",
      "source": [
        "We can use networkx to compute the Laplacian directly."
      ],
      "metadata": {
        "id": "vqepLuti1ItH"
      }
    },
    {
      "cell_type": "code",
      "source": [
        "L = nx.laplacian_matrix(G).toarray()\n",
        "L"
      ],
      "metadata": {
        "colab": {
          "base_uri": "https://localhost:8080/"
        },
        "id": "yVOjoGP21HZG",
        "outputId": "d14de907-a07a-4362-eb2f-e58222eb7dbb"
      },
      "execution_count": 15,
      "outputs": [
        {
          "output_type": "execute_result",
          "data": {
            "text/plain": [
              "array([[ 3, -1,  0,  0,  0,  0, -1,  0,  0, -1],\n",
              "       [-1,  3,  0,  0, -1,  0,  0,  0, -1,  0],\n",
              "       [ 0,  0,  3, -1,  0,  0,  0, -1, -1,  0],\n",
              "       [ 0,  0, -1,  3, -1,  0,  0,  0,  0, -1],\n",
              "       [ 0, -1,  0, -1,  3,  0,  0, -1,  0,  0],\n",
              "       [ 0,  0,  0,  0,  0,  3, -1, -1, -1,  0],\n",
              "       [-1,  0,  0,  0,  0, -1,  3,  0,  0, -1],\n",
              "       [ 0,  0, -1,  0, -1, -1,  0,  3,  0,  0],\n",
              "       [ 0, -1, -1,  0,  0, -1,  0,  0,  3,  0],\n",
              "       [-1,  0,  0, -1,  0,  0, -1,  0,  0,  3]])"
            ]
          },
          "metadata": {},
          "execution_count": 15
        }
      ]
    },
    {
      "cell_type": "markdown",
      "source": [
        "We can verify that this matrix is equal to our more manual method with the np.array_equal(array1, array2) method."
      ],
      "metadata": {
        "id": "tBGDPJaa1MTg"
      }
    },
    {
      "cell_type": "code",
      "source": [
        "np.array_equal(nx.laplacian_matrix(G).toarray(), D - A)"
      ],
      "metadata": {
        "colab": {
          "base_uri": "https://localhost:8080/"
        },
        "id": "oEIyeCFW1KgW",
        "outputId": "828f2735-bbb3-4873-df3b-ef0f6ebad042"
      },
      "execution_count": 16,
      "outputs": [
        {
          "output_type": "execute_result",
          "data": {
            "text/plain": [
              "True"
            ]
          },
          "metadata": {},
          "execution_count": 16
        }
      ]
    },
    {
      "cell_type": "markdown",
      "source": [
        "# Properties of the Laplacian Matrix\n",
        "We will now look at some properties of the Laplacian matrix L, with reference to this [Wikipedia](https://en.wikipedia.org/wiki/Laplacian_matrix#Properties) section.\n",
        "\n",
        "**L** is symmetric.\n",
        "\n"
      ],
      "metadata": {
        "id": "8MXxpiHJ1PB5"
      }
    },
    {
      "cell_type": "code",
      "source": [
        "np.array_equal(L, L.T)"
      ],
      "metadata": {
        "colab": {
          "base_uri": "https://localhost:8080/"
        },
        "id": "bJmUru2f1NvG",
        "outputId": "0b75b694-1067-44a1-b5eb-fb407f862f62"
      },
      "execution_count": 17,
      "outputs": [
        {
          "output_type": "execute_result",
          "data": {
            "text/plain": [
              "True"
            ]
          },
          "metadata": {},
          "execution_count": 17
        }
      ]
    },
    {
      "cell_type": "markdown",
      "source": [
        "**L** is positive-semidefinite"
      ],
      "metadata": {
        "id": "OEwn9aNe10tG"
      }
    },
    {
      "cell_type": "code",
      "source": [
        "# generate eigenvalues and eigenvectors of L\n",
        "evals, evecs = np.linalg.eig(L)\n",
        "\n",
        "# evaluate if all are zero or above\n",
        "print(f\"All above zero? {np.all(evals >= 0)}\")\n",
        "\n",
        "# print the (sorted) eigenvalues, smallest to largest\n",
        "sorted(evals)"
      ],
      "metadata": {
        "colab": {
          "base_uri": "https://localhost:8080/"
        },
        "id": "zJU_qzin1y1G",
        "outputId": "1850d4ca-415d-4247-f369-b0670bd106ab"
      },
      "execution_count": 18,
      "outputs": [
        {
          "output_type": "stream",
          "name": "stdout",
          "text": [
            "All above zero? False\n"
          ]
        },
        {
          "output_type": "execute_result",
          "data": {
            "text/plain": [
              "[-8.881784197001252e-16,\n",
              " 1.1206147584281827,\n",
              " 1.7369225896867593,\n",
              " 1.9999999999999993,\n",
              " 2.48427841070866,\n",
              " 3.3472963553338606,\n",
              " 4.182644323595947,\n",
              " 4.532088886237949,\n",
              " 4.999999999999989,\n",
              " 5.596154676008631]"
            ]
          },
          "metadata": {},
          "execution_count": 18
        }
      ]
    },
    {
      "cell_type": "markdown",
      "source": [
        "Every row sum and column sum of **L** is zero."
      ],
      "metadata": {
        "id": "d_YiB6Fo19Su"
      }
    },
    {
      "cell_type": "code",
      "source": [
        "L.sum(axis=0), L.sum(axis=1)"
      ],
      "metadata": {
        "colab": {
          "base_uri": "https://localhost:8080/"
        },
        "id": "TTjOWPse14cW",
        "outputId": "b0d6b2ea-f889-4912-a4b9-c031b4c70bb2"
      },
      "execution_count": 19,
      "outputs": [
        {
          "output_type": "execute_result",
          "data": {
            "text/plain": [
              "(array([0, 0, 0, 0, 0, 0, 0, 0, 0, 0]), array([0, 0, 0, 0, 0, 0, 0, 0, 0, 0]))"
            ]
          },
          "metadata": {},
          "execution_count": 19
        }
      ]
    },
    {
      "cell_type": "markdown",
      "source": [
        "**L** is singular."
      ],
      "metadata": {
        "id": "E_1BD51e2B6Q"
      }
    },
    {
      "cell_type": "code",
      "source": [
        "# Taking the inverse will give LinAlgError\n",
        "np.linalg.inv(L)"
      ],
      "metadata": {
        "colab": {
          "base_uri": "https://localhost:8080/"
        },
        "id": "9CRcbiKf1831",
        "outputId": "49435392-e38e-40db-b10c-1b6d3151c830"
      },
      "execution_count": 20,
      "outputs": [
        {
          "output_type": "execute_result",
          "data": {
            "text/plain": [
              "array([[1.12589991e+15, 1.12589991e+15, 1.12589991e+15, 1.12589991e+15,\n",
              "        1.12589991e+15, 1.12589991e+15, 1.12589991e+15, 1.12589991e+15,\n",
              "        1.12589991e+15, 1.12589991e+15],\n",
              "       [1.12589991e+15, 1.12589991e+15, 1.12589991e+15, 1.12589991e+15,\n",
              "        1.12589991e+15, 1.12589991e+15, 1.12589991e+15, 1.12589991e+15,\n",
              "        1.12589991e+15, 1.12589991e+15],\n",
              "       [1.12589991e+15, 1.12589991e+15, 1.12589991e+15, 1.12589991e+15,\n",
              "        1.12589991e+15, 1.12589991e+15, 1.12589991e+15, 1.12589991e+15,\n",
              "        1.12589991e+15, 1.12589991e+15],\n",
              "       [1.12589991e+15, 1.12589991e+15, 1.12589991e+15, 1.12589991e+15,\n",
              "        1.12589991e+15, 1.12589991e+15, 1.12589991e+15, 1.12589991e+15,\n",
              "        1.12589991e+15, 1.12589991e+15],\n",
              "       [1.12589991e+15, 1.12589991e+15, 1.12589991e+15, 1.12589991e+15,\n",
              "        1.12589991e+15, 1.12589991e+15, 1.12589991e+15, 1.12589991e+15,\n",
              "        1.12589991e+15, 1.12589991e+15],\n",
              "       [1.12589991e+15, 1.12589991e+15, 1.12589991e+15, 1.12589991e+15,\n",
              "        1.12589991e+15, 1.12589991e+15, 1.12589991e+15, 1.12589991e+15,\n",
              "        1.12589991e+15, 1.12589991e+15],\n",
              "       [1.12589991e+15, 1.12589991e+15, 1.12589991e+15, 1.12589991e+15,\n",
              "        1.12589991e+15, 1.12589991e+15, 1.12589991e+15, 1.12589991e+15,\n",
              "        1.12589991e+15, 1.12589991e+15],\n",
              "       [1.12589991e+15, 1.12589991e+15, 1.12589991e+15, 1.12589991e+15,\n",
              "        1.12589991e+15, 1.12589991e+15, 1.12589991e+15, 1.12589991e+15,\n",
              "        1.12589991e+15, 1.12589991e+15],\n",
              "       [1.12589991e+15, 1.12589991e+15, 1.12589991e+15, 1.12589991e+15,\n",
              "        1.12589991e+15, 1.12589991e+15, 1.12589991e+15, 1.12589991e+15,\n",
              "        1.12589991e+15, 1.12589991e+15],\n",
              "       [1.12589991e+15, 1.12589991e+15, 1.12589991e+15, 1.12589991e+15,\n",
              "        1.12589991e+15, 1.12589991e+15, 1.12589991e+15, 1.12589991e+15,\n",
              "        1.12589991e+15, 1.12589991e+15]])"
            ]
          },
          "metadata": {},
          "execution_count": 20
        }
      ]
    },
    {
      "cell_type": "code",
      "source": [
        "# The determinant = 0 and the condition-number is very large (ill conditioned)\n",
        "print(\"Determinant: \", np.linalg.det(L))\n",
        "print(\"Condition Number: \", np.linalg.cond(L))"
      ],
      "metadata": {
        "colab": {
          "base_uri": "https://localhost:8080/"
        },
        "id": "_PxmSMix2ER3",
        "outputId": "daa1141b-7e48-487e-c9d6-f7de41be1337"
      },
      "execution_count": 21,
      "outputs": [
        {
          "output_type": "stream",
          "name": "stdout",
          "text": [
            "Determinant:  1.5250023466251168e-12\n",
            "Condition Number:  9.884363345259923e+16\n"
          ]
        }
      ]
    },
    {
      "cell_type": "markdown",
      "source": [
        "The second smallest eigenvalue of **L** is the algebraic connectivity (or Fiedler value) of G\n"
      ],
      "metadata": {
        "id": "Elx-kdqM2K6n"
      }
    },
    {
      "cell_type": "code",
      "source": [
        "print(nx.algebraic_connectivity(G))\n",
        "print(sorted(evals)[1])"
      ],
      "metadata": {
        "colab": {
          "base_uri": "https://localhost:8080/"
        },
        "id": "VWqp-oFo2JWH",
        "outputId": "db8aef8e-e06a-4f66-f8c7-64cdfb0b945f"
      },
      "execution_count": 22,
      "outputs": [
        {
          "output_type": "stream",
          "name": "stdout",
          "text": [
            "1.1206147584281843\n",
            "1.1206147584281827\n"
          ]
        }
      ]
    },
    {
      "cell_type": "markdown",
      "source": [
        "The trace of **L** is equal to **2m** where **m** is the number of edges of the considered graph."
      ],
      "metadata": {
        "id": "mqETd4Z82ScA"
      }
    },
    {
      "cell_type": "code",
      "source": [
        "np.trace(L) == 2 * len(G.edges())"
      ],
      "metadata": {
        "colab": {
          "base_uri": "https://localhost:8080/"
        },
        "id": "Bf007bK12RZX",
        "outputId": "2230fc7c-9933-40a4-e5af-f4682f3fcd26"
      },
      "execution_count": 23,
      "outputs": [
        {
          "output_type": "execute_result",
          "data": {
            "text/plain": [
              "True"
            ]
          },
          "metadata": {},
          "execution_count": 23
        }
      ]
    },
    {
      "cell_type": "markdown",
      "source": [
        "**Algebraic Connectivity**\n",
        "\n",
        "Algebraic Connectivity, Connected_Components, Density, Bridges\n",
        "\n",
        "https://en.wikipedia.org/wiki/Algebraic_connectivity\n",
        "\n",
        "The algebraic connectivity (also known as Fiedler value or Fiedler eigenvalue) of a graph G is the second-smallest eigenvalue of the Laplacian matrix of G\n",
        "\n",
        "This eigenvalue is greater than 0 if and only if G is a connected graph.\n",
        "\n",
        "This is a corollary to the fact that the number of times 0 appears as an eigenvalue in the Laplacian is the number of connected components in the graph.\n",
        "\n",
        "The magnitude of this value reflects how well connected the overall graph is. It has been used in analyzing the robustness and synchronizability of networks."
      ],
      "metadata": {
        "id": "aPlIw_OR2vJ4"
      }
    },
    {
      "cell_type": "code",
      "source": [
        "import networkx as nx\n",
        "import numpy as np\n",
        "G = nx.erdos_renyi_graph(n=15, p=.25, seed=50)"
      ],
      "metadata": {
        "id": "nvr6eFVO2zU3"
      },
      "execution_count": 24,
      "outputs": []
    },
    {
      "cell_type": "code",
      "source": [
        "nx.draw(G)"
      ],
      "metadata": {
        "colab": {
          "base_uri": "https://localhost:8080/",
          "height": 247
        },
        "id": "eyxYpVXm23An",
        "outputId": "ed1df62d-f7a9-42ed-ebc1-99bcd3d5046f"
      },
      "execution_count": 25,
      "outputs": [
        {
          "output_type": "display_data",
          "data": {
            "text/plain": [
              "<Figure size 216x216 with 1 Axes>"
            ],
            "image/png": "[encoded data removed]"
          },
          "metadata": {}
        }
      ]
    },
    {
      "cell_type": "markdown",
      "source": [
        "We can measure how dense the graph is with the nx.density(G) function."
      ],
      "metadata": {
        "id": "0cHAL-WW26M2"
      }
    },
    {
      "cell_type": "code",
      "source": [
        "nx.density(G)"
      ],
      "metadata": {
        "colab": {
          "base_uri": "https://localhost:8080/"
        },
        "id": "kd3uWWWp24iI",
        "outputId": "b40a1273-8d90-414d-b41f-ac96395380d6"
      },
      "execution_count": 26,
      "outputs": [
        {
          "output_type": "execute_result",
          "data": {
            "text/plain": [
              "0.2571428571428571"
            ]
          },
          "metadata": {},
          "execution_count": 26
        }
      ]
    },
    {
      "cell_type": "markdown",
      "source": [
        "And we can view the number of connected components: nx.number_connected_components(G)."
      ],
      "metadata": {
        "id": "SF-zbJeU29kX"
      }
    },
    {
      "cell_type": "code",
      "source": [
        "nx.number_connected_components(G)"
      ],
      "metadata": {
        "colab": {
          "base_uri": "https://localhost:8080/"
        },
        "id": "4auuvOhD28Io",
        "outputId": "b8283f45-085f-497a-8bdf-83ee08881949"
      },
      "execution_count": 27,
      "outputs": [
        {
          "output_type": "execute_result",
          "data": {
            "text/plain": [
              "1"
            ]
          },
          "metadata": {},
          "execution_count": 27
        }
      ]
    },
    {
      "cell_type": "code",
      "source": [
        "L = nx.laplacian_matrix(G).toarray()\n",
        "evals, evecs = np.linalg.eig(L)\n",
        "sorted(evals)"
      ],
      "metadata": {
        "colab": {
          "base_uri": "https://localhost:8080/"
        },
        "id": "sdXBpmkM2_PY",
        "outputId": "870a225c-991e-4a47-d2af-1e54c61e4dcc"
      },
      "execution_count": 28,
      "outputs": [
        {
          "output_type": "execute_result",
          "data": {
            "text/plain": [
              "[-2.4007227329532395e-16,\n",
              " 0.42348460951660405,\n",
              " 0.7633831583504187,\n",
              " 1.0000000000000004,\n",
              " 1.4690152948434805,\n",
              " 2.3310367290120766,\n",
              " 3.084643283074336,\n",
              " 3.588782540325124,\n",
              " 4.317682394195986,\n",
              " 4.571470870430381,\n",
              " 5.1804060673839905,\n",
              " 6.040435592646256,\n",
              " 6.30987267082512,\n",
              " 7.09038285748888,\n",
              " 7.829403931907307]"
            ]
          },
          "metadata": {},
          "execution_count": 28
        }
      ]
    },
    {
      "cell_type": "markdown",
      "source": [
        "This is also available directly in networkx with the nx.algebraic_connectivity(G) method."
      ],
      "metadata": {
        "id": "s9YkQvX23CG_"
      }
    },
    {
      "cell_type": "code",
      "source": [
        "nx.algebraic_connectivity(G)"
      ],
      "metadata": {
        "colab": {
          "base_uri": "https://localhost:8080/"
        },
        "id": "Dsb9V3K93Ain",
        "outputId": "faed9d55-c482-4d27-b64b-d34b48f258fa"
      },
      "execution_count": 29,
      "outputs": [
        {
          "output_type": "execute_result",
          "data": {
            "text/plain": [
              "0.4234846095166065"
            ]
          },
          "metadata": {},
          "execution_count": 29
        }
      ]
    },
    {
      "cell_type": "markdown",
      "source": [
        "Since the algebraic connectivity is not zero, we know that this is a graph with a single connected component.\n",
        "\n",
        "The number of connected components in a graph is equal to the number of times zero occurs as an eigenvalues of L"
      ],
      "metadata": {
        "id": "nt_g1mFA3F_Z"
      }
    },
    {
      "cell_type": "code",
      "source": [
        "# find number of zero eigenvalues\n",
        "# note: we use np.isclose() to mitigate floating point errors\n",
        "num_zero_evals = sum(np.isclose(evals, 0))\n",
        "\n",
        "assert num_zero_evals == nx.number_connected_components(G)"
      ],
      "metadata": {
        "id": "PlOTjBYe3EaI"
      },
      "execution_count": 30,
      "outputs": []
    },
    {
      "cell_type": "markdown",
      "source": [
        "We can view the edges in a graph with the G.edges property.\n",
        "\n"
      ],
      "metadata": {
        "id": "GwKiQExE3JYI"
      }
    },
    {
      "cell_type": "code",
      "source": [
        "for edge in G.edges:\n",
        "  print(edge)"
      ],
      "metadata": {
        "colab": {
          "base_uri": "https://localhost:8080/"
        },
        "id": "V67DlPDS3HyY",
        "outputId": "21d329b4-e88e-4ea6-f797-696d4ff14d8d"
      },
      "execution_count": 31,
      "outputs": [
        {
          "output_type": "stream",
          "name": "stdout",
          "text": [
            "(0, 4)\n",
            "(0, 7)\n",
            "(0, 10)\n",
            "(0, 11)\n",
            "(1, 2)\n",
            "(2, 3)\n",
            "(2, 7)\n",
            "(2, 13)\n",
            "(4, 5)\n",
            "(4, 8)\n",
            "(4, 11)\n",
            "(4, 12)\n",
            "(5, 10)\n",
            "(5, 12)\n",
            "(5, 13)\n",
            "(6, 7)\n",
            "(6, 8)\n",
            "(6, 11)\n",
            "(6, 12)\n",
            "(8, 9)\n",
            "(8, 12)\n",
            "(10, 12)\n",
            "(10, 13)\n",
            "(10, 14)\n",
            "(11, 12)\n",
            "(11, 13)\n",
            "(13, 14)\n"
          ]
        }
      ]
    },
    {
      "cell_type": "markdown",
      "source": [
        "Let's disconnect any edges between nodes 1-7 and nodes 8-14."
      ],
      "metadata": {
        "id": "2AKrQDpy3NDJ"
      }
    },
    {
      "cell_type": "code",
      "source": [
        "for node1, node2 in G.edges:\n",
        "  if node1 < 8 <= node2:\n",
        "    G.remove_edge(node1, node2)"
      ],
      "metadata": {
        "id": "epN5b9nS3K14"
      },
      "execution_count": 32,
      "outputs": []
    },
    {
      "cell_type": "markdown",
      "source": [
        "Now we should have 2 distinct components in the graph.\n",
        "\n"
      ],
      "metadata": {
        "id": "4LOha-aZ3QGp"
      }
    },
    {
      "cell_type": "code",
      "source": [
        "print(nx.number_connected_components(G))\n",
        "nx.draw(G)"
      ],
      "metadata": {
        "colab": {
          "base_uri": "https://localhost:8080/",
          "height": 265
        },
        "id": "zD7VJbkK3O8I",
        "outputId": "49230ed1-a54b-46b7-b862-d03f5c952519"
      },
      "execution_count": 33,
      "outputs": [
        {
          "output_type": "stream",
          "name": "stdout",
          "text": [
            "2\n"
          ]
        },
        {
          "output_type": "display_data",
          "data": {
            "text/plain": [
              "<Figure size 216x216 with 1 Axes>"
            ],
            "image/png": "[encoded data removed]"
          },
          "metadata": {}
        }
      ]
    },
    {
      "cell_type": "markdown",
      "source": [
        "With a disconnected graph G, we should now see the algebraic connectivity is zero (since there are now 2 connected components).\n",
        "\n"
      ],
      "metadata": {
        "id": "Pfcv-GLO3Tpw"
      }
    },
    {
      "cell_type": "code",
      "source": [
        "nx.algebraic_connectivity(G)"
      ],
      "metadata": {
        "colab": {
          "base_uri": "https://localhost:8080/"
        },
        "id": "WCsej8ec3Rro",
        "outputId": "92e93f22-6c25-4d74-b48d-6686491136eb"
      },
      "execution_count": 34,
      "outputs": [
        {
          "output_type": "execute_result",
          "data": {
            "text/plain": [
              "0.0"
            ]
          },
          "metadata": {},
          "execution_count": 34
        }
      ]
    },
    {
      "cell_type": "markdown",
      "source": [
        "We can see that the density is reduced too, because we've removed some edges.\n",
        "\n"
      ],
      "metadata": {
        "id": "sReYh3K93WnQ"
      }
    },
    {
      "cell_type": "code",
      "source": [
        "nx.density(G)"
      ],
      "metadata": {
        "colab": {
          "base_uri": "https://localhost:8080/"
        },
        "id": "lqTuWLDH3Vd4",
        "outputId": "a6ae21c5-910c-44d1-a836-088f2baa41bc"
      },
      "execution_count": 35,
      "outputs": [
        {
          "output_type": "execute_result",
          "data": {
            "text/plain": [
              "0.14285714285714285"
            ]
          },
          "metadata": {},
          "execution_count": 35
        }
      ]
    },
    {
      "cell_type": "markdown",
      "source": [
        "Verify by checking the eigenvalues."
      ],
      "metadata": {
        "id": "aTedWgG43a3o"
      }
    },
    {
      "cell_type": "code",
      "source": [
        "L = nx.laplacian_matrix(G).toarray()\n",
        "evals, evecs = np.linalg.eig(L)\n",
        "\n",
        "num_zero_evals = sum(np.isclose(evals, 0))\n",
        "\n",
        "assert num_zero_evals == nx.number_connected_components(G) == 2"
      ],
      "metadata": {
        "id": "-kvBLbGE3YZI"
      },
      "execution_count": 36,
      "outputs": []
    },
    {
      "cell_type": "markdown",
      "source": [
        "Let's introduce a single connection between the two components."
      ],
      "metadata": {
        "id": "IHpQJHOR3epA"
      }
    },
    {
      "cell_type": "code",
      "source": [
        "G.add_edge(5, 10)\n",
        "nx.draw(G)"
      ],
      "metadata": {
        "colab": {
          "base_uri": "https://localhost:8080/",
          "height": 247
        },
        "id": "IFG8EtgY3cxI",
        "outputId": "88d64a71-03ea-43f7-ffa1-e0ff26b4ee24"
      },
      "execution_count": 37,
      "outputs": [
        {
          "output_type": "display_data",
          "data": {
            "text/plain": [
              "<Figure size 216x216 with 1 Axes>"
            ],
            "image/png": "[encoded data removed]"
          },
          "metadata": {}
        }
      ]
    },
    {
      "cell_type": "markdown",
      "source": [
        "The edge we have just introduced forms a bridge in the graph. This is a bridge because if we removed this edge between the nodes, we would increase the number of connected components by one.\n",
        "\n",
        "We can look at the bridges in the graph using nx.bridges(G)."
      ],
      "metadata": {
        "id": "kILV4VE-3iBY"
      }
    },
    {
      "cell_type": "code",
      "source": [
        "bridges = list(nx.bridges(G))\n",
        "print(bridges)"
      ],
      "metadata": {
        "colab": {
          "base_uri": "https://localhost:8080/"
        },
        "id": "YAU000vF3gVn",
        "outputId": "60a52fdf-4319-4ab9-bf3c-4a7d3460576f"
      },
      "execution_count": 38,
      "outputs": [
        {
          "output_type": "stream",
          "name": "stdout",
          "text": [
            "[(0, 4), (0, 7), (1, 2), (2, 3), (2, 7), (4, 5), (5, 10), (6, 7), (8, 9), (8, 12)]\n"
          ]
        }
      ]
    },
    {
      "cell_type": "markdown",
      "source": [
        "Let's verify that, if we remove the edge involved in a bridge, then the number of connected components increases by one.\n",
        "\n"
      ],
      "metadata": {
        "id": "ExgBrOsg3lM3"
      }
    },
    {
      "cell_type": "code",
      "source": [
        "G2 = G.copy()\n",
        "G2.remove_edge(*bridges[0])"
      ],
      "metadata": {
        "id": "MgJ59ixU3j5X"
      },
      "execution_count": 39,
      "outputs": []
    },
    {
      "cell_type": "markdown",
      "source": [
        "Drawing the graph shows that it now has 2 connected components."
      ],
      "metadata": {
        "id": "oK_3Q-xq3nwI"
      }
    },
    {
      "cell_type": "code",
      "source": [
        "nx.draw(G2)"
      ],
      "metadata": {
        "colab": {
          "base_uri": "https://localhost:8080/",
          "height": 247
        },
        "id": "WR9wBebI3ms4",
        "outputId": "f6cad6f7-e588-4845-fbe4-ff25596ec48d"
      },
      "execution_count": 40,
      "outputs": [
        {
          "output_type": "display_data",
          "data": {
            "text/plain": [
              "<Figure size 216x216 with 1 Axes>"
            ],
            "image/png": "[encoded data removed]"
          },
          "metadata": {}
        }
      ]
    },
    {
      "cell_type": "markdown",
      "source": [
        "If we now remove a second bridge, we should see that this creates another connected component."
      ],
      "metadata": {
        "id": "U6YCXZ9W3rbg"
      }
    },
    {
      "cell_type": "code",
      "source": [
        "G2.remove_edge(*next(nx.bridges(G2)))\n",
        "nx.draw(G2)"
      ],
      "metadata": {
        "colab": {
          "base_uri": "https://localhost:8080/",
          "height": 247
        },
        "id": "q2ApfX-i3p7I",
        "outputId": "5cca0d43-774f-4c94-a860-0f863aee6a84"
      },
      "execution_count": 41,
      "outputs": [
        {
          "output_type": "display_data",
          "data": {
            "text/plain": [
              "<Figure size 216x216 with 1 Axes>"
            ],
            "image/png": "[encoded data removed]"
          },
          "metadata": {}
        }
      ]
    },
    {
      "cell_type": "markdown",
      "source": [
        "# Dense Graphs\n",
        "Let's introduce a highly connected random graph - one that is not far off a complete graph (which would have every node connected by an edge to every other node).\n",
        "\n",
        "Using the nx.erdos_renyi_graph() generator, we specify a probability of 0.9 that a connection/edge will exist between any pair of nodes in the graph."
      ],
      "metadata": {
        "id": "OUifQSVQ31WA"
      }
    },
    {
      "cell_type": "code",
      "source": [
        "G = nx.erdos_renyi_graph(n=15, p=.9, seed=50)"
      ],
      "metadata": {
        "id": "k5dNuYTA3tgo"
      },
      "execution_count": 42,
      "outputs": []
    },
    {
      "cell_type": "code",
      "source": [
        "nx.draw(G)"
      ],
      "metadata": {
        "colab": {
          "base_uri": "https://localhost:8080/",
          "height": 247
        },
        "id": "fylZQK4734Oo",
        "outputId": "fa1d9a63-f7d8-48c3-9550-31eab55aac26"
      },
      "execution_count": 43,
      "outputs": [
        {
          "output_type": "display_data",
          "data": {
            "text/plain": [
              "<Figure size 216x216 with 1 Axes>"
            ],
            "image/png": "[encoded data removed]"
          },
          "metadata": {}
        }
      ]
    },
    {
      "cell_type": "markdown",
      "source": [
        "Because there are many more connected pairs of nodes, the density of this graph is also much higher."
      ],
      "metadata": {
        "id": "CMc8ntW43_SI"
      }
    },
    {
      "cell_type": "code",
      "source": [
        "nx.density(G)"
      ],
      "metadata": {
        "colab": {
          "base_uri": "https://localhost:8080/"
        },
        "id": "ajVY5Ahk35vI",
        "outputId": "8aef19f9-3a6c-4474-ffb7-1ea2ac0620ab"
      },
      "execution_count": 44,
      "outputs": [
        {
          "output_type": "execute_result",
          "data": {
            "text/plain": [
              "0.8761904761904762"
            ]
          },
          "metadata": {},
          "execution_count": 44
        }
      ]
    },
    {
      "cell_type": "markdown",
      "source": [
        "We can also see higher values in the graph Laplacian's eigenspectrum.|"
      ],
      "metadata": {
        "id": "L4GOskCX4EqI"
      }
    },
    {
      "cell_type": "code",
      "source": [
        "evals, evecs = np.linalg.eig(nx.laplacian_matrix(G).toarray())\n",
        "\n",
        "sorted(evals)"
      ],
      "metadata": {
        "colab": {
          "base_uri": "https://localhost:8080/"
        },
        "id": "xx4TBrdJ4Dc4",
        "outputId": "3094f7a5-e6b8-437c-9b3a-10d68cbfc40c"
      },
      "execution_count": 45,
      "outputs": [
        {
          "output_type": "execute_result",
          "data": {
            "text/plain": [
              "[0.0,\n",
              " 9.648999926420336,\n",
              " 10.611248525939267,\n",
              " 11.641082355198224,\n",
              " 11.88217874114587,\n",
              " 11.999999999999998,\n",
              " 13.000000000000007,\n",
              " 13.231165518461626,\n",
              " 13.570528109518081,\n",
              " 14.248213410375001,\n",
              " 14.488735966646964,\n",
              " 14.6778474462947,\n",
              " 14.999999999999998,\n",
              " 14.999999999999998,\n",
              " 15.000000000000007]"
            ]
          },
          "metadata": {},
          "execution_count": 45
        }
      ]
    },
    {
      "cell_type": "markdown",
      "source": [
        "We should also find that, because this graph is very dense, we don't have as many bridges."
      ],
      "metadata": {
        "id": "-aB2o1K94IGa"
      }
    },
    {
      "cell_type": "code",
      "source": [
        "list(nx.bridges(G))"
      ],
      "metadata": {
        "colab": {
          "base_uri": "https://localhost:8080/"
        },
        "id": "9wvNfNbM4GaJ",
        "outputId": "9df8ec2b-6e07-4cd7-d532-9d4b66747cc7"
      },
      "execution_count": 46,
      "outputs": [
        {
          "output_type": "execute_result",
          "data": {
            "text/plain": [
              "[]"
            ]
          },
          "metadata": {},
          "execution_count": 46
        }
      ]
    },
    {
      "cell_type": "markdown",
      "source": [
        "As we can see, there are actually no bridges in this graph. Thus, there is no edge that we can remove that would disconnect this graph."
      ],
      "metadata": {
        "id": "Acq18nUw4NAB"
      }
    },
    {
      "cell_type": "markdown",
      "source": [
        "**Addendum: Cliques**\n",
        "\n",
        "A clique in a graph is a set of vertices/nodes where each node is connected to all other nodes in the set. For example, if nodes [1,2,3] are involved in clique, then:\n",
        "\n",
        "node1 is connected to node2 and node3\n",
        "node2 is connected to node1 and node3\n",
        "node3 is connected to node1 and node2.\n",
        "A clique is a complete subgraph of the graph G.\n",
        "\n",
        "We can find cliques in networkx using the nx.find_cliques(G) function."
      ],
      "metadata": {
        "id": "rP-BUpbF4QB5"
      }
    },
    {
      "cell_type": "code",
      "source": [
        "cliques = list(nx.find_cliques(G))\n",
        "maximal_clique = max(cliques)  # get clique of maximum length\n",
        "print(maximal_clique)"
      ],
      "metadata": {
        "colab": {
          "base_uri": "https://localhost:8080/"
        },
        "id": "XYDx3VFp4LbZ",
        "outputId": "72f57900-40f6-490c-d13e-9deb675e5270"
      },
      "execution_count": 47,
      "outputs": [
        {
          "output_type": "stream",
          "name": "stdout",
          "text": [
            "[4, 7, 9, 10, 13, 5, 8, 14]\n"
          ]
        }
      ]
    },
    {
      "cell_type": "markdown",
      "source": [
        "We can create an induced subgraph consisting of just the nodes involved in the clique.\n",
        "\n",
        "The G.subgraph(nodelist) function creates a subgraph consisting of the nodes passed in."
      ],
      "metadata": {
        "id": "YJY_v4K94cA6"
      }
    },
    {
      "cell_type": "code",
      "source": [
        "subgraph = G.subgraph(maximal_clique)\n",
        "nx.draw(subgraph)"
      ],
      "metadata": {
        "colab": {
          "base_uri": "https://localhost:8080/",
          "height": 247
        },
        "id": "ffbELaiJ4aV6",
        "outputId": "399c45b3-a0fa-46d9-db7b-cf5afb4258c9"
      },
      "execution_count": 48,
      "outputs": [
        {
          "output_type": "display_data",
          "data": {
            "text/plain": [
              "<Figure size 216x216 with 1 Axes>"
            ],
            "image/png": "[encoded data removed]"
          },
          "metadata": {}
        }
      ]
    },
    {
      "cell_type": "markdown",
      "source": [
        "We can see, as per the definition of a clique, that this is a complete graph - each node is connected to all other nodes.\n",
        "\n",
        "A related fact - the graph density of the clique will be equal to 1."
      ],
      "metadata": {
        "id": "ZMXVDOHF4hny"
      }
    },
    {
      "cell_type": "code",
      "source": [
        "nx.density(subgraph)"
      ],
      "metadata": {
        "colab": {
          "base_uri": "https://localhost:8080/"
        },
        "id": "uVMW0jAF4dlq",
        "outputId": "ae2fa4ac-aff4-4a74-b7bd-38231c19ce3e"
      },
      "execution_count": 50,
      "outputs": [
        {
          "output_type": "execute_result",
          "data": {
            "text/plain": [
              "1.0"
            ]
          },
          "metadata": {},
          "execution_count": 50
        }
      ]
    },
    {
      "cell_type": "code",
      "source": [],
      "metadata": {
        "id": "rxxx-caEhcmD"
      },
      "execution_count": null,
      "outputs": []
    }
  ]
}
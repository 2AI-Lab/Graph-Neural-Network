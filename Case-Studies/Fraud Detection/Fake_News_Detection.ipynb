{
  "cells": [
    {
      "attachments": {},
      "cell_type": "markdown",
      "metadata": {
        "id": "jzJPAMwSY65V"
      },
      "source": [
        "# Fake News Detection using Graph Neural Networks - GATs with Pytorch Geometric"
      ]
    },
    {
      "attachments": {},
      "cell_type": "markdown",
      "metadata": {},
      "source": [
        "One way to detect fraud is to use graph-based machine learning techniques, which can help identify patterns in the relationships and interactions between the individuals or organizations involved in the fraud. For example, one could use PyG to build a graph representation of the relationships between individuals or organizations, and then use a graph convolutional network (GCN) to classify nodes as fraudulent or non-fraudulent based on their relationships with other nodes in the graph.\n",
        "\n",
        "To use PyG for fraud detection, one would first need to gather and prepare the data. This may involve collecting data about the individuals or organizations involved in the fraud, as well as any interactions or transactions between them. One would then need to preprocess the data and create a graph representation of the relationships between the entities. Once one has the data in the appropriate format, one can use PyG to build, train, and evaluate a machine learning model for detecting fraud."
      ]
    },
    {
      "cell_type": "markdown",
      "metadata": {
        "id": "1Kcc3IMdZBwA"
      },
      "source": [
        "## Installation"
      ]
    },
    {
      "cell_type": "code",
      "execution_count": 4,
      "metadata": {
        "colab": {
          "base_uri": "https://localhost:8080/"
        },
        "id": "gkg-eLyRT3Of",
        "outputId": "8d562197-7cfa-4c32-fc16-e28bf1f11a15"
      },
      "outputs": [
        {
          "name": "stdout",
          "output_type": "stream",
          "text": [
            "Torch vers:  1.13.0+cu116\n",
            "Looking in indexes: https://pypi.org/simple, https://us-python.pkg.dev/colab-wheels/public/simple/\n",
            "Requirement already satisfied: torch-geometric in /usr/local/lib/python3.8/dist-packages (2.2.0)\n",
            "Requirement already satisfied: requests in /usr/local/lib/python3.8/dist-packages (from torch-geometric) (2.23.0)\n",
            "Requirement already satisfied: pyparsing in /usr/local/lib/python3.8/dist-packages (from torch-geometric) (3.0.9)\n",
            "Requirement already satisfied: scikit-learn in /usr/local/lib/python3.8/dist-packages (from torch-geometric) (1.0.2)\n",
            "Requirement already satisfied: numpy in /usr/local/lib/python3.8/dist-packages (from torch-geometric) (1.21.6)\n",
            "Requirement already satisfied: jinja2 in /usr/local/lib/python3.8/dist-packages (from torch-geometric) (2.11.3)\n",
            "Requirement already satisfied: scipy in /usr/local/lib/python3.8/dist-packages (from torch-geometric) (1.7.3)\n",
            "Requirement already satisfied: psutil>=5.8.0 in /usr/local/lib/python3.8/dist-packages (from torch-geometric) (5.9.4)\n",
            "Requirement already satisfied: tqdm in /usr/local/lib/python3.8/dist-packages (from torch-geometric) (4.64.1)\n",
            "Requirement already satisfied: MarkupSafe>=0.23 in /usr/local/lib/python3.8/dist-packages (from jinja2->torch-geometric) (2.0.1)\n",
            "Requirement already satisfied: certifi>=2017.4.17 in /usr/local/lib/python3.8/dist-packages (from requests->torch-geometric) (2022.12.7)\n",
            "Requirement already satisfied: chardet<4,>=3.0.2 in /usr/local/lib/python3.8/dist-packages (from requests->torch-geometric) (3.0.4)\n",
            "Requirement already satisfied: idna<3,>=2.5 in /usr/local/lib/python3.8/dist-packages (from requests->torch-geometric) (2.10)\n",
            "Requirement already satisfied: urllib3!=1.25.0,!=1.25.1,<1.26,>=1.21.1 in /usr/local/lib/python3.8/dist-packages (from requests->torch-geometric) (1.24.3)\n",
            "Requirement already satisfied: threadpoolctl>=2.0.0 in /usr/local/lib/python3.8/dist-packages (from scikit-learn->torch-geometric) (3.1.0)\n",
            "Requirement already satisfied: joblib>=0.11 in /usr/local/lib/python3.8/dist-packages (from scikit-learn->torch-geometric) (1.2.0)\n"
          ]
        }
      ],
      "source": [
        "import torch\n",
        "vers = torch.__version__\n",
        "print(\"Torch vers: \", vers)\n",
        "\n",
        "# PyG installation \n",
        "!pip install -q torch-scatter -f https://pytorch-geometric.com/whl/torch-${TORCH}+${CUDA}.html\n",
        "!pip install -q torch-sparse -f https://pytorch-geometric.com/whl/torch-${TORCH}+${CUDA}.html\n",
        "!pip install -q git+https://github.com/rusty1s/pytorch_geometric.git\n",
        "\n",
        "!pip install torch-geometric"
      ]
    },
    {
      "attachments": {},
      "cell_type": "markdown",
      "metadata": {
        "id": "ZyB3RRbmZD3o"
      },
      "source": [
        "## Dataset\n",
        "\n",
        "- Contains news propagation graphs extracted from Twitter\n",
        "- Source and raw data: https://github.com/KaiDMML/FakeNewsNet\n",
        "- Preprocessing: https://arxiv.org/pdf/2104.12259.pdf\n",
        "- feature=\"content\" --> Spacy Word2Vec + Profile features\n",
        "\n",
        "The 'UPFD' dataset is a dataset of user posts from online forums, specifically designed for use in fake news detection tasks. It consists of posts from two forums: GossipCop, which is a forum for discussing and debunking celebrity gossip, and UncoverDC, which is a forum for discussing political news and conspiracy theories. Each sample in the dataset is a user post, represented as a list of words. The dataset includes a label indicating whether the post is real or fake, as well as metadata about the post, such as the user who made the post and the forum in which the post was made.\n",
        "\n",
        "The UPFD dataset is split into a training set and a test set, with the training set containing a larger number of samples. The ratio of real to fake samples is roughly balanced in both the training and test sets.\n",
        "\n",
        "The UPFD dataset is intended to be used for training and evaluating models for detecting fake news in online forums. It can be used with a variety of machine learning and natural language processing techniques, including graph convolutional networks (GCNs) and transformer models."
      ]
    },
    {
      "cell_type": "code",
      "execution_count": 6,
      "metadata": {
        "colab": {
          "base_uri": "https://localhost:8080/"
        },
        "id": "tvB33IQ5k7Tr",
        "outputId": "a53096fb-ba77-4010-aafd-ac53b574e29c"
      },
      "outputs": [
        {
          "name": "stderr",
          "output_type": "stream",
          "text": [
            "Downloading https://docs.google.com/uc?export=download&id=1VskhAQ92PrT4sWEKQ2v2-AJhEcpp4A81&confirm=t\n",
            "Extracting ./gossipcop/raw/uc\n",
            "Processing...\n",
            "Done!\n"
          ]
        },
        {
          "name": "stdout",
          "output_type": "stream",
          "text": [
            "Train Samples:  1092\n",
            "Test Samples:  3826\n"
          ]
        }
      ],
      "source": [
        "# Import the 'torch_geometric' and 'UPFD' modules from the 'torch_geometric.datasets' package.\n",
        "import torch_geometric\n",
        "from torch_geometric.datasets import UPFD\n",
        "\n",
        "# Load the training data from the 'gossipcop' dataset, using the 'content' feature and the 'train' split.\n",
        "train_data = UPFD(root=\".\", name=\"gossipcop\", feature=\"content\", split=\"train\")\n",
        "# Load the test data from the 'gossipcop' dataset, using the 'content' feature and the 'test' split.\n",
        "test_data = UPFD(root=\".\", name=\"gossipcop\", feature=\"content\", split=\"test\")\n",
        "\n",
        "# Print the number of training samples.\n",
        "print(\"Train Samples: \", len(train_data))\n",
        "# Print the number of test samples.\n",
        "print(\"Test Samples: \", len(test_data))"
      ]
    },
    {
      "attachments": {},
      "cell_type": "markdown",
      "metadata": {},
      "source": [
        "The 'feature' argument specifies which feature should be used as input to the model. The 'split' argument specifies which split of the data should be loaded, with 'train' and 'test' being the two available options."
      ]
    },
    {
      "cell_type": "markdown",
      "metadata": {
        "id": "RdM8rXX2hqtw"
      },
      "source": [
        "### Investigating the News Propagation Graph"
      ]
    },
    {
      "attachments": {},
      "cell_type": "markdown",
      "metadata": {},
      "source": [
        "Investigating the news propagation graph can be a useful way to understand how information is spreading on social media and to identify potential sources of fake news. There are several techniques one can use to do this, including:\n",
        "\n",
        "1. Visualizing the graph: One of the first steps in analyzing the graph is to visualize it using a graph drawing tool, such as NetworkX or Gephi. This can help one get a sense of the overall structure of the graph and identify any patterns or clusters that may be present.\n",
        "\n",
        "2. Computing centrality measures: Centrality measures are statistics that quantify the importance of a node within the graph based on various criteria, such as the number of neighbors it has or the number of shortest paths it lies on. Computing centrality measures for the nodes in the graph can help one identify key influencers or sources of fake news.\n",
        "\n",
        "3. Detecting communities or clusters: Community detection algorithms can be used to identify groups of nodes that are more densely connected to each other than to the rest of the graph. These groups, also known as communities or clusters, may represent different news topics or groups of individuals who are more likely to spread fake news.\n",
        "\n",
        "4. Analyzing node and edge attributes: The graph may include additional information about the nodes and edges, such as metadata about the users or news articles, or the content of the news articles themselves. Analyzing these attributes can help one understand the context in which the news is being shared and identify potential sources of fake news.\n",
        "\n",
        "By using these and other techniques, one can gain insights into the structure and dynamics of the news propagation graph and use this knowledge to identify and mitigate the spread of fake news on social media."
      ]
    },
    {
      "cell_type": "code",
      "execution_count": 7,
      "metadata": {
        "colab": {
          "base_uri": "https://localhost:8080/"
        },
        "id": "5qz9MHtnTsvx",
        "outputId": "06a4eaad-7b51-47b0-d4de-842b6ecdabd4"
      },
      "outputs": [
        {
          "data": {
            "text/plain": [
              "tensor([[  0,   0,   0,   0,   0,   0,   0,   0,   0,   0,   0,   0,   0,   0,\n",
              "           0,   0,   0,   0,   0,   0,   0,   0,   0,   0,   0,   0,   0,   0,\n",
              "           0,   0,   0,   0,   0,   0,   0,   0,   0,   0,  15,  15,  17,  17,\n",
              "          22,  22,  22,  22,  23,  26,  26,  26,  26,  26,  26,  26,  26,  27,\n",
              "          27,  27,  28,  28,  28,  28,  28,  28,  28,  28,  28,  28,  28,  28,\n",
              "          28,  28,  28,  28,  28,  28,  28,  28,  28,  28,  28,  28,  28,  28,\n",
              "          28,  28,  28,  28,  28,  28,  28,  28,  30,  34,  34,  38,  38,  38,\n",
              "          38,  39,  40,  57,  59,  65,  65,  65,  66,  68,  69,  77,  77,  79,\n",
              "          79,  80,  83,  83,  83,  83,  84, 101, 110, 115, 116, 117],\n",
              "        [  1,   2,   3,   4,   5,   6,   7,   8,   9,  10,  11,  12,  13,  14,\n",
              "          15,  16,  17,  18,  19,  20,  21,  22,  23,  24,  25,  26,  27,  28,\n",
              "          29,  30,  31,  32,  33,  34,  35,  36,  37,  38,  39,  40,  43,  44,\n",
              "          45,  46,  47,  48,  49,  50,  51,  52,  53,  54,  55,  56,  57,  59,\n",
              "          60,  61,  63,  64,  65,  66,  67,  68,  69,  70,  71,  72,  73,  74,\n",
              "          75,  76,  77,  78,  79,  80,  81,  82,  83,  84,  85,  86,  87,  88,\n",
              "          89,  90,  91,  92,  93,  94,  95,  96, 115, 119, 120, 121, 122, 123,\n",
              "         124,  41,  42,  58,  62,  97,  98,  99, 100, 101, 103, 104, 105, 106,\n",
              "         107, 108, 109, 110, 111, 112, 114, 102, 113, 116, 117, 118]])"
            ]
          },
          "execution_count": 7,
          "metadata": {},
          "output_type": "execute_result"
        }
      ],
      "source": [
        "sample_id=1\n",
        "train_data[sample_id].edge_index"
      ]
    },
    {
      "attachments": {},
      "cell_type": "markdown",
      "metadata": {},
      "source": [
        "## NetworkX Graphs\n",
        "The following code defines a function called to_networkx that converts a PyTorch geometric data object into a NetworkX graph. NetworkX is a Python library for working with graphs, and it provides a wide range of tools for visualizing, analyzing, and manipulating graphs.\n",
        "\n",
        "The to_networkx function takes several arguments:\n",
        "\n",
        "* data: a PyTorch geometric data object containing the graph data\n",
        "* node_attrs: a list of node attributes to include in the NetworkX graph\n",
        "* edge_attrs: a list of edge attributes to include in the NetworkX graph\n",
        "* to_undirected: a boolean flag indicating whether to convert the graph to an undirected graph\n",
        "* remove_self_loops: a boolean flag indicating whether to remove self-loops (edges that connect a node to itself) from the graph"
      ]
    },
    {
      "cell_type": "code",
      "execution_count": 8,
      "metadata": {
        "colab": {
          "base_uri": "https://localhost:8080/"
        },
        "id": "7yqF8X6Hin7i",
        "outputId": "2f566c62-528f-45f3-8363-7672e980fc4a"
      },
      "outputs": [
        {
          "name": "stdout",
          "output_type": "stream",
          "text": [
            "Looking in indexes: https://pypi.org/simple, https://us-python.pkg.dev/colab-wheels/public/simple/\n",
            "Requirement already satisfied: networkx in /usr/local/lib/python3.8/dist-packages (2.8.8)\n"
          ]
        }
      ],
      "source": [
        "!pip install networkx\n",
        "import networkx as nx\n",
        "\n",
        "# From PyG utils\n",
        "# This function converts a PyG data object to a NetworkX graph.\n",
        "# The optional arguments 'node_attrs' and 'edge_attrs' allow the user to specify which \n",
        "# attributes of the PyG data object should be included as node and edge attributes in the resulting NetworkX graph.\n",
        "# The optional argument 'to_undirected' allows the user to specify whether the resulting graph should be directed or undirected.\n",
        "# The optional argument 'remove_self_loops' allows the user to specify whether self-loops (edges that connect a node to itself) should be removed from the resulting graph.\n",
        "def to_networkx(data, node_attrs=None, edge_attrs=None, to_undirected=False,\n",
        "                remove_self_loops=False):\n",
        "    # Initialize empty dictionaries for node and edge attributes.\n",
        "    node_attrs, edge_attrs = node_attrs or [], edge_attrs or []\n",
        "    # Initialize an empty dictionary to store the values of the node and edge attributes.\n",
        "    values = {}\n",
        "    # Iterate through the node and edge attributes specified by the user, and store their values in the 'values' dictionary.\n",
        "    for key, item in data(*(node_attrs + edge_attrs)):\n",
        "        # If the attribute is a PyTorch tensor, convert it to a list and store it in the 'values' dictionary.\n",
        "        if torch.is_tensor(item):\n",
        "            values[key] = item.squeeze().tolist()\n",
        "        else:\n",
        "            # If the attribute is not a PyTorch tensor, store it directly in the 'values' dictionary.\n",
        "            values[key] = item\n",
        "        # If the value of the attribute is a list or tuple with only one element, store the element instead of the list/tuple.\n",
        "        if isinstance(values[key], (list, tuple)) and len(values[key]) == 1:\n",
        "            values[key] = item[0]\n",
        "\n",
        "    # If the user has specified that the resulting graph should be undirected, create an empty NetworkX Graph object.\n",
        "    # Otherwise, create an empty NetworkX DiGraph (directed graph) object.\n",
        "    if to_undirected:\n",
        "        G = nx.Graph()\n",
        "    else:\n",
        "        G = nx.DiGraph()\n",
        "    # Add nodes to the graph, numbered from 0 to data.num_nodes - 1.\n",
        "    G.add_nodes_from(range(data.num_nodes))\n",
        "\n",
        "    # Iterate through the edges in the PyG data object.\n",
        "    for i, (u, v) in enumerate(data.edge_index.t().tolist()):\n",
        "        # If the graph is undirected and the edge is from a higher-numbered node to a lower-numbered node, skip it.\n",
        "        if to_undirected and v > u:\n",
        "            continue\n",
        "        # If the 'remove_self_loops' argument is True and the edge is a self-loop, skip it.\n",
        "        if remove_self_loops and u == v:\n",
        "            continue\n",
        "        # Add the edge to the graph.\n",
        "        G.add_edge(u, v)\n",
        "        # Iterate through the edge attributes specified by the user.\n",
        "        for key in edge_attrs:\n",
        "            # Add the edge attribute to the edge in the graph.\n",
        "            G[u][v][key] = values[key][i]\n",
        "    \n",
        "    # Iterate through the node attributes specified by the user.\n",
        "    for key in node_attrs:\n",
        "        # Iterate through the nodes in the graph.\n",
        "        for i, feat_dict in G.nodes(data=True):\n",
        "            # Add the node attribute to the node in the graph.\n",
        "            feat_dict.update({key: values[key][i]})\n",
        "    # Finally, you could return the resulting graph:\n",
        "    return G"
      ]
    },
    {
      "attachments": {},
      "cell_type": "markdown",
      "metadata": {},
      "source": [
        "This code extracts the node and edge attributes specified in the 'node_attrs' and 'edge_attrs' lists, and stores them in the values dictionary. It then creates an empty NetworkX graph, either a directed graph (DiGraph) or an undirected graph (Graph), depending on the value of the to_undirected flag. It then adds nodes to the graph, using the number of nodes in the PyTorch geometric data object as the number of nodes in the NetworkX graph.\n",
        "\n",
        "Next, the function extracts the node and edge attributes specified in the 'node_attrs' and 'edge_attrs' lists, and adds them to the NetworkX graph. It does this by iterating over the edges in the PyTorch geometric data object and adding them to the NetworkX graph. If the 'to_undirected' flag is set to True, it only adds edges with 'u' as the smaller index, to avoid duplicating edges. If the 'remove_self_loops' flag is set to True, it skips any self-loop edges.\n",
        "\n",
        "It adds nodes to the graph using the number of nodes in the PyTorch geometric data object, and then iterates over the edges in the data object, adding them to the graph if they are not self-loops and, in the case of undirected graphs, if the v index is not greater than the u index.\n",
        "\n",
        "Finally, the function adds the node attributes to the nodes in the NetworkX graph by iterating over the nodes and updating their attributes with the corresponding values from the PyTorch geometric data object.\n",
        "\n",
        "Once the 'to_networkx' function has been called, we can use the NetworkX graph to visualize or analyze the graph data in a variety of ways. For example, we might use NetworkX's built-in visualization functions to plot the graph, or we might use NetworkX's graph analysis functions to compute various graph metrics or detect patterns in the data."
      ]
    },
    {
      "cell_type": "code",
      "execution_count": 9,
      "metadata": {
        "colab": {
          "base_uri": "https://localhost:8080/",
          "height": 319
        },
        "id": "smHrIIV1iQfJ",
        "outputId": "694edbfb-5d80-41b1-c713-b74a973ef3e1"
      },
      "outputs": [
        {
          "data": {
            "image/png": "[encoded data removed]",
            "text/plain": [
              "<Figure size 432x288 with 1 Axes>"
            ]
          },
          "metadata": {},
          "output_type": "display_data"
        }
      ],
      "source": [
        "G = to_networkx(train_data[sample_id])\n",
        "nx.draw(G)"
      ]
    },
    {
      "attachments": {},
      "cell_type": "markdown",
      "metadata": {},
      "source": [
        "The code uses the `to_networkx` function to convert a sample from the UPFD dataset (specifically, the sample with index `sample_id` from the training set) into a NetworkX graph, and then use the `nx.draw` function to draw the graph.\n",
        "\n",
        "The `nx.draw` function is a simple graph drawing function that takes a NetworkX graph as input and creates a basic visual representation of the graph using Matplotlib, a Python library for plotting data. By default, `nx.draw` uses a spring layout, which positions the nodes of the graph using a force-directed layout algorithm. This can give a relatively good approximation of the overall structure of the graph, but it can also result in a cluttered or overlapping layout in some cases.\n",
        "\n",
        "One can customize the appearance of the graph by passing additional arguments to the `nx.draw` function, such as `node_size`, `node_color`, and `edge_color`, which control the size, color, and style of the nodes and edges, respectively. One can also use different layout algorithms, such as circular or spectral layouts, by setting the pos argument to a dictionary of node positions or by using the `nx.draw_circular` or `nx.draw_spectral` functions.\n",
        "\n",
        "It's worth noting that the `nx.draw` function is a relatively basic drawing function, and it may not be suitable for creating high-quality visualizations of large or complex graphs. If one needs more advanced visualization capabilities, he/she might want to consider using a different tool, such as Gephi or Graphviz."
      ]
    },
    {
      "cell_type": "markdown",
      "metadata": {
        "id": "xU_P6S-Zht5A"
      },
      "source": [
        "### Node features"
      ]
    },
    {
      "cell_type": "code",
      "execution_count": 10,
      "metadata": {
        "colab": {
          "base_uri": "https://localhost:8080/"
        },
        "id": "jmZMuKXv6S0g",
        "outputId": "adcde373-3225-4e90-b957-8b27fe0ec6ca"
      },
      "outputs": [
        {
          "name": "stdout",
          "output_type": "stream",
          "text": [
            "torch.Size([125, 310])\n"
          ]
        },
        {
          "data": {
            "text/plain": [
              "tensor([[0.5220, 0.5120, 0.4817,  ..., 0.6874, 0.1023, 0.1529],\n",
              "        [0.4610, 0.4544, 0.6279,  ..., 0.2055, 0.1667, 0.2500],\n",
              "        [0.4461, 0.4728, 0.4978,  ..., 0.8356, 0.0556, 0.0000],\n",
              "        ...,\n",
              "        [0.5574, 0.4934, 0.5588,  ..., 0.3562, 0.0556, 0.2647],\n",
              "        [0.5274, 0.5889, 0.4425,  ..., 0.9589, 0.1111, 0.1176],\n",
              "        [0.5220, 0.5120, 0.4817,  ..., 0.6874, 0.1023, 0.1529]])"
            ]
          },
          "execution_count": 10,
          "metadata": {},
          "output_type": "execute_result"
        }
      ],
      "source": [
        "print(train_data[sample_id].x.shape)\n",
        "train_data[sample_id].x"
      ]
    },
    {
      "attachments": {},
      "cell_type": "markdown",
      "metadata": {},
      "source": [
        "The `train_data[sample_id].x` attribute of the PyG data object contains node features for the graph represented by `train_data[sample_id]`. The `shape` attribute of `train_data[sample_id].x` gives the dimensions of the node feature matrix, a 2D tensor where each row corresponds to a node and each column corresponds to a feature. The `train_data[sample_id].x` tensor contains the values of the node features for each node in the graph. Node features can be accessed using the node's index, e.g. `train_data[sample_id].x[i]`. The type and number of features depend on the dataset and the purpose of the analysis.\n"
      ]
    },
    {
      "cell_type": "markdown",
      "metadata": {
        "id": "cRzLDYg8Ec_4"
      },
      "source": [
        "### Class distribution"
      ]
    },
    {
      "cell_type": "code",
      "execution_count": 11,
      "metadata": {
        "colab": {
          "base_uri": "https://localhost:8080/",
          "height": 282
        },
        "id": "Ul5y-1IKEcdU",
        "outputId": "e0bf8345-781e-4a2e-eb19-f1c1b446b9be"
      },
      "outputs": [
        {
          "data": {
            "text/plain": [
              "<matplotlib.axes._subplots.AxesSubplot at 0x7fb6fe7572b0>"
            ]
          },
          "execution_count": 11,
          "metadata": {},
          "output_type": "execute_result"
        },
        {
          "data": {
            "image/png": "[encoded data removed]",
            "text/plain": [
              "<Figure size 432x288 with 1 Axes>"
            ]
          },
          "metadata": {
            "needs_background": "light"
          },
          "output_type": "display_data"
        }
      ],
      "source": [
        "import pandas as pd\n",
        "labels = [data.y.item() for i, data in enumerate(train_data)]\n",
        "df = pd.DataFrame(labels, columns=[\"Labels\"])\n",
        "df[\"Labels\"].hist()"
      ]
    },
    {
      "attachments": {},
      "cell_type": "markdown",
      "metadata": {},
      "source": [
        "This code block visualizes the class distribution in the training data using the `pandas` library. The `train_data` variable is a PyG data object containing a list of graphs with labels indicating their class. The code creates a list of labels by extracting the `y` attribute of each graph in `train_data`, then stores the labels in a Pandas dataframe with a \"Labels\" column. The `hist` method of the \"Labels\" column generates a histogram of the class distribution. This can be useful for understanding class balance and identifying potential imbalances. Modifications may be needed for specific data structures and histogram customization."
      ]
    },
    {
      "cell_type": "markdown",
      "metadata": {
        "id": "vzAmnPlhl5iO"
      },
      "source": [
        "### Data Loaders"
      ]
    },
    {
      "cell_type": "code",
      "execution_count": 12,
      "metadata": {
        "id": "c0DhfbZgl44G"
      },
      "outputs": [],
      "source": [
        "from torch_geometric.loader import DataLoader\n",
        "train_loader = DataLoader(train_data, batch_size=128, shuffle=True)\n",
        "test_loader = DataLoader(test_data, batch_size=128, shuffle=False)"
      ]
    },
    {
      "attachments": {},
      "cell_type": "markdown",
      "metadata": {},
      "source": [
        "This code block creates data loaders for the training and test data using the `DataLoader` class from the `torch_geometric.loader` module. The `train_data` and `test_data` variables are assumed to be PyG data objects containing the training and test data, respectively. The data loaders allow the data to be loaded in batches during training and evaluation, which can improve the efficiency and stability of the model. The `batch_size` parameter specifies the number of samples to include in each batch, and the `shuffle` parameter specifies whether to randomly shuffle the samples before creating the batches. The `train_loader` object will be used to iterate over the training data in batches during training, and the `test_loader` object will be used to iterate over the test data in batches during evaluation."
      ]
    },
    {
      "attachments": {},
      "cell_type": "markdown",
      "metadata": {
        "id": "C8m-dJ-WZFM1"
      },
      "source": [
        "## Model and Training\n",
        "\n",
        "\"Because it is a directed graph, it will only share information from the root.\"\n",
        "\n",
        "In the context of this code, the term \"directed graph\" refers to a graph data structure in which the edges have a direction, meaning that they connect one node to another in a specific order. In this case, the graph represents the propagation of news articles on social media, where the nodes represent the articles and the edges represent the sharing of the articles between users.\n",
        "\n",
        "The statement \"it will only share information from the root\" refers to the fact that, in a directed graph, the information flows in a specific direction along the edges. In this case, the root of the graph is the source of the information, and the other nodes receive the information from the root via the edges. Because the edges are directed, the information only flows from the root to the other nodes and does not flow back in the opposite direction. This means that the other nodes can only receive information from the root and cannot share information with the root or with each other directly.\n",
        "\n",
        "This property of directed graphs can be useful for modeling certain types of information flow, such as the spread of news articles on social media or the flow of data in a computer network. However, it can also be a limitation if the information flow in the system being modeled is more complex or bi-directional. In such cases, it may be necessary to use a different type of graph data structure, such as an undirected graph or a multi-directional graph, to more accurately capture the information flow."
      ]
    },
    {
      "attachments": {},
      "cell_type": "markdown",
      "metadata": {},
      "source": [
        "Short Summary: This code defines a GNN (graph neural network) model for fake news detection using PyTorch. The model includes three graph attention convolution layers, a linear layer for processing the raw word2vec embeddings of the news articles in the graph, and a linear layer and sigmoid activation function for producing binary classification outputs. The model can be instantiated with the number of input and output channels and hidden channels as arguments, and can be called on input data using the forward method.\n"
      ]
    },
    {
      "cell_type": "code",
      "execution_count": 13,
      "metadata": {
        "colab": {
          "base_uri": "https://localhost:8080/"
        },
        "id": "v_W27XGUlrpM",
        "outputId": "fcd1a86a-de6c-4801-e533-dabc4ebefa12"
      },
      "outputs": [
        {
          "data": {
            "text/plain": [
              "GNN(\n",
              "  (conv1): GATConv(310, 128, heads=1)\n",
              "  (conv2): GATConv(128, 128, heads=1)\n",
              "  (conv3): GATConv(128, 128, heads=1)\n",
              "  (lin_news): Linear(in_features=310, out_features=128, bias=True)\n",
              "  (lin0): Linear(in_features=128, out_features=128, bias=True)\n",
              "  (lin1): Linear(in_features=256, out_features=1, bias=True)\n",
              ")"
            ]
          },
          "execution_count": 13,
          "metadata": {},
          "output_type": "execute_result"
        }
      ],
      "source": [
        "\n",
        "\n",
        "from torch_geometric.nn import global_max_pool as gmp # global max pooling function from torch_geometric\n",
        "from torch_geometric.nn import GATConv # graph attention convolution function from torch_geometric\n",
        "from torch.nn import Linear # linear layer from PyTorch\n",
        "\n",
        "class GNN(torch.nn.Module):\n",
        "    def __init__(self, in_channels, hidden_channels, out_channels):\n",
        "        super().__init__()\n",
        "        \n",
        "        # Define three Graph Attention Convolution Layers\n",
        "        self.conv1 = GATConv(in_channels, hidden_channels)       # Graph Attention Convolution layer 1\n",
        "        self.conv2 = GATConv(hidden_channels, hidden_channels)   # Graph Attention Convolution layer 2\n",
        "        self.conv3 = GATConv(hidden_channels, hidden_channels)   # Graph Attention Convolution layer 3\n",
        "\n",
        "        # Readout\n",
        "        self.lin_news = Linear(in_channels, hidden_channels) #Linear layer for processing news embeddings\n",
        "        self.lin0 = Linear(hidden_channels, hidden_channels) #Linear layer for readout\n",
        "        self.lin1 = Linear(2*hidden_channels, out_channels) #Final linear layer for binary classification output\n",
        "        #self.sigmoid = nn.Sigmoid() # sigmoid activation function\n",
        "\n",
        "    def forward(self, x, edge_index, batch):\n",
        "        # Graph Convolutions\n",
        "        h = self.conv1(x, edge_index)\n",
        "        h = self.relu(h) # Apply GATConv1 and ReLU activation function\n",
        "        h = self.conv2(h, edge_index)\n",
        "        h = self.relu(h) # Apply GATConv2 and ReLU activation function\n",
        "        h = self.conv3(h, edge_index).relu(h) # Apply GATConv3 and ReLU activation function\n",
        "\n",
        "        # Pooling\n",
        "        h = gmp(h, batch) # Apply global max pooling on the result of graph convolutions\n",
        "\n",
        "        # Readout\n",
        "        h = self.lin0(h).relu() # Linear readout, apply ReLU activation function\n",
        "\n",
        "        # According to UPFD paper: Include raw word2vec embeddings of news \n",
        "        # This is done per graph in the batch\n",
        "        root = (batch[1:] - batch[:-1]).nonzero(as_tuple=False).view(-1) # get indices of root nodes in the batch\n",
        "        root = torch.cat([root.new_zeros(1), root + 1], dim=0) # add a zero index for the first root node\n",
        "        # root is e.g. [   0,   14,   94,  171,  230,  302, ... ]\n",
        "        news = x[root] # get raw word2vec embeddings of news articles from root nodes\n",
        "        news = self.lin_news(news).relu() # apply linear transformation and ReLU activation on the embeddings\n",
        "        \n",
        "        out = self.lin1(torch.cat([h, news], dim=-1)) # concatenate processed embeddings with pooled node representations and apply linear transformation\n",
        "        return torch.sigmoid(out) # apply sigmoid activation to produce binary classification outputs\n",
        "\n",
        "#Instantiate a GNN model with the number of features in the training data as the input channels, 128 hidden channels, and 1 output channel\n",
        "GNN(train_data.num_features, 128, 1)"
      ]
    },
    {
      "attachments": {},
      "cell_type": "markdown",
      "metadata": {},
      "source": [
        "This code defines a PyTorch Module called `GNN` which represents a graph neural network (GNN) model for fake news detection. The `GNN` class is a subclass of the `torch.nn.Module` class, which provides a convenient way to define and train neural network models in PyTorch.\n",
        "\n",
        "The `__init__` method of the `GNN` class defines the structure of the model, including the number of input and output channels, the number of hidden channels, and the layers of the model. The `forward` method defines the forward pass of the model, which takes input data and produces output predictions.\n",
        "\n",
        "The `GNN` model uses graph attention convolutions (GATConv) from the `torch_geometric.nn` module to process the graph structure and node features. It also uses global max pooling (`gmp`) from the `torch_geometric.nn` module to aggregate the node representations into a graph-level representation. The model has three graph attention convolution layers followed by a linear layer and a sigmoid activation function to produce binary classification outputs.\n",
        "\n",
        "        * The difference is how the pooling is performed.\n",
        "\n",
        "            1. Global pooling gives you one supernode that contains the aggregated features from the whole graph.\n",
        "\n",
        "            2. Local pooling operation on the other hand create clusters and aggregates nodes in them.\n",
        "\n",
        "            Among local pooling you can find for instance Top-K pooling algorithm, SAGPool etc. They both have parameter called \"ratio\" that lets you specify how many nodes should be removed. Local pooling can give you a bit of hierarchical approach.\n",
        "\n",
        "The `GNN` model also includes a linear layer called `lin_news` which processes the raw word2vec embeddings of the news articles in the graph. These embeddings are included in the model according to the UPFD paper, which recommends including them as additional features for fake news detection. The `lin_news` layer takes the raw embeddings as input and applies a linear transformation followed by a ReLU activation function to produce a processed version of the embeddings. The processed embeddings are then concatenated with the graph-level representation and passed through another linear layer and sigmoid activation function to produce the final classification output.\n",
        "\n",
        "You can use this GNN model by instantiating it with the appropriate number of input and output channels and hidden channels, and then calling it on your input data. For example, you can instantiate a GNN model with the number of features in your training data as the input channels, 128 hidden channels, and 1 output channel like this: `GNN(train_data.num_features, 128, 1)`. One can then call the model on your input data using the `forward` method, passing in the input data and any additional arguments as necessary. "
      ]
    },
    {
      "cell_type": "code",
      "execution_count": 14,
      "metadata": {
        "id": "gKHbOXHJMUwd"
      },
      "outputs": [],
      "source": [
        "#Import necessary modules\n",
        "from sklearn.metrics import accuracy_score, f1_score\n",
        "\n",
        "#Set the device to use for training\n",
        "device = torch.device('cuda' if torch.cuda.is_available() else 'cpu')\n",
        "#Initialize the GNN model\n",
        "model = GNN(train_data.num_features, 128, 1).to(device)\n",
        "optimizer = torch.optim.Adam(model.parameters(), lr=0.01, weight_decay=0.01) #Set the optimizer\n",
        "loss_fnc = torch.nn.BCELoss() #Set the loss function\n",
        "\n",
        "#define a function to train the model for one epoch\n",
        "def train(epoch):\n",
        "    model.train()\n",
        "    total_loss = 0\n",
        "    # Iterate through the training data\n",
        "    for data in train_loader:\n",
        "        # Send data to the correct device\n",
        "        data = data.to(device)\n",
        "        # Zero the gradients of the optimizer\n",
        "        optimizer.zero_grad()\n",
        "        # Run a forward pass through the model\n",
        "        out = model(data.x, data.edge_index, data.batch)\n",
        "        # Calculate the loss\n",
        "        loss = loss_fnc(torch.reshape(out, (-1,)), data.y.float())\n",
        "        # Backpropagate the loss\n",
        "        loss.backward()\n",
        "        # Update the model parameters\n",
        "        optimizer.step()\n",
        "        # Accumulate the total loss for this epoch\n",
        "        total_loss += float(loss) * data.num_graphs\n",
        "    # Calculate the average loss across all training examples\n",
        "    return total_loss / len(train_loader.dataset)\n",
        "\n",
        "\n",
        "# model: the model being evaluated\n",
        "# test_loader: a DataLoader object for the test dataset\n",
        "# loss_fnc: the loss function being used\n",
        "# device: the device on which the model is running\n",
        "@torch.no_grad()\n",
        "#Define a function to evaluate the model on the test data\n",
        "def test(epoch):\n",
        "    # Set model to evaluation mode\n",
        "    model.eval()\n",
        "    # Initialize variables to store total loss and predictions\n",
        "    total_loss = 0\n",
        "    all_preds = []\n",
        "    all_labels = []\n",
        "    # Iterate over test data\n",
        "    for data in test_loader:\n",
        "        # Move data to device\n",
        "        data = data.to(device)\n",
        "        # Get model predictions\n",
        "        out = model(data.x, data.edge_index, data.batch)\n",
        "        # Calculate loss\n",
        "        loss = loss_fnc(torch.reshape(out, (-1,)), data.y.float())\n",
        "        # Accumulate loss\n",
        "        total_loss += float(loss) * data.num_graphs\n",
        "        # Store predictions and labels\n",
        "        all_preds.append(torch.reshape(out, (-1,)))\n",
        "        all_labels.append(data.y.float())\n",
        "\n",
        "    # Calculate Metrics\n",
        "    accuracy, f1 = metrics(all_preds, all_labels)\n",
        "\n",
        "    # Return average loss and metrics\n",
        "    return total_loss / len(test_loader.dataset), accuracy, f1\n",
        "\n",
        "def metrics(preds, gts):\n",
        "    #Calculate prediction and ground truth values as a single tensor\n",
        "    preds = torch.round(torch.cat(preds))\n",
        "    gts = torch.cat(gts)\n",
        "    #Calculate accuracy using sklearn's accuracy_score function\n",
        "    acc = accuracy_score(preds, gts)\n",
        "    #Calculate f1 score using sklearn's f1_score function\n",
        "    f1 = f1_score(preds, gts)\n",
        "    #Return calculated metrics\n",
        "    return acc, f1"
      ]
    },
    {
      "attachments": {},
      "cell_type": "markdown",
      "metadata": {},
      "source": [
        "This code block defines several functions that can be used to train and evaluate a GNN model for fake news detection. The train function takes an epoch number as input and performs one epoch of training on the training data. It iterates through the training data in mini-batches using the train_loader data loader, which was defined earlier in the code. For each mini-batch, the function performs a forward pass through the model to generate predictions, calculates the loss using the BCELoss function from PyTorch, and performs backpropagation to update the model parameters. The function returns the average loss over the entire training set for the epoch.\n",
        "\n",
        "The test function is similar to the train function, but it performs evaluation on the test data rather than training. It iterates through the test data in mini-batches using the test_loader data loader, and it calculates the average loss over the entire test set. The function also calculates several performance metrics, such as accuracy and F1 score, using the accuracy_score and f1_score functions from scikit-learn. These metrics are used to evaluate the model's performance on the test set.\n",
        "\n",
        "The metrics function is a helper function that calculates the accuracy and F1 score for a given set of predictions and ground truth labels. It takes the predictions and labels as input and returns the accuracy and F1 score as output. The predictions and labels are first concatenated into single tensors using the cat function from PyTorch, and then the accuracy and F1 score are calculated using the accuracy_score and f1_score functions from scikit-learn."
      ]
    },
    {
      "attachments": {},
      "cell_type": "markdown",
      "metadata": {},
      "source": [
        "## RESULTS: \n",
        "\n",
        "In conclusion, the graph neural network model implemented in this notebook was able to achieve strong results on the task of fake news detection. Over the course of 40 training epochs, the model was able to reduce the training loss and improve its performance on the test set, as measured by the test loss, accuracy, and F1 score. The final test scores were a loss of 0.35, accuracy of 0.93, and F1 score of 0.93. These results suggest that the model was able to effectively learn features from the graph structure and node features in order to make accurate predictions about the class of the graph. Overall, the model performed well on this dataset and may be a useful tool for detecting fake news in practice."
      ]
    },
    {
      "cell_type": "code",
      "execution_count": 15,
      "metadata": {
        "colab": {
          "base_uri": "https://localhost:8080/"
        },
        "id": "vxYpZCPpMaQh",
        "outputId": "9b250761-0f68-49a8-b941-39d064342408"
      },
      "outputs": [
        {
          "name": "stdout",
          "output_type": "stream",
          "text": [
            "Epoch: 00 |  TrainLoss: 0.75 | TestLoss: 0.72 | TestAcc: 0.50 | TestF1: 0.00\n",
            "Epoch: 01 |  TrainLoss: 0.69 | TestLoss: 0.69 | TestAcc: 0.50 | TestF1: 0.00\n",
            "Epoch: 02 |  TrainLoss: 0.69 | TestLoss: 0.69 | TestAcc: 0.50 | TestF1: 0.67\n",
            "Epoch: 03 |  TrainLoss: 0.69 | TestLoss: 0.68 | TestAcc: 0.50 | TestF1: 0.00\n",
            "Epoch: 04 |  TrainLoss: 0.69 | TestLoss: 0.68 | TestAcc: 0.50 | TestF1: 0.67\n",
            "Epoch: 05 |  TrainLoss: 0.71 | TestLoss: 0.68 | TestAcc: 0.50 | TestF1: 0.01\n",
            "Epoch: 06 |  TrainLoss: 0.68 | TestLoss: 0.69 | TestAcc: 0.50 | TestF1: 0.67\n",
            "Epoch: 07 |  TrainLoss: 0.68 | TestLoss: 0.67 | TestAcc: 0.59 | TestF1: 0.29\n",
            "Epoch: 08 |  TrainLoss: 0.68 | TestLoss: 0.67 | TestAcc: 0.53 | TestF1: 0.68\n",
            "Epoch: 09 |  TrainLoss: 0.68 | TestLoss: 0.66 | TestAcc: 0.74 | TestF1: 0.65\n",
            "Epoch: 10 |  TrainLoss: 0.66 | TestLoss: 0.67 | TestAcc: 0.50 | TestF1: 0.67\n",
            "Epoch: 11 |  TrainLoss: 0.67 | TestLoss: 0.71 | TestAcc: 0.50 | TestF1: 0.00\n",
            "Epoch: 12 |  TrainLoss: 0.69 | TestLoss: 0.64 | TestAcc: 0.91 | TestF1: 0.91\n",
            "Epoch: 13 |  TrainLoss: 0.67 | TestLoss: 0.66 | TestAcc: 0.50 | TestF1: 0.67\n",
            "Epoch: 14 |  TrainLoss: 0.64 | TestLoss: 0.63 | TestAcc: 0.65 | TestF1: 0.47\n",
            "Epoch: 15 |  TrainLoss: 0.64 | TestLoss: 0.65 | TestAcc: 0.50 | TestF1: 0.67\n",
            "Epoch: 16 |  TrainLoss: 0.63 | TestLoss: 0.60 | TestAcc: 0.79 | TestF1: 0.74\n",
            "Epoch: 17 |  TrainLoss: 0.60 | TestLoss: 0.58 | TestAcc: 0.91 | TestF1: 0.91\n",
            "Epoch: 18 |  TrainLoss: 0.58 | TestLoss: 0.55 | TestAcc: 0.90 | TestF1: 0.91\n",
            "Epoch: 19 |  TrainLoss: 0.63 | TestLoss: 0.69 | TestAcc: 0.50 | TestF1: 0.67\n",
            "Epoch: 20 |  TrainLoss: 0.60 | TestLoss: 0.65 | TestAcc: 0.52 | TestF1: 0.10\n",
            "Epoch: 21 |  TrainLoss: 0.59 | TestLoss: 0.56 | TestAcc: 0.68 | TestF1: 0.76\n",
            "Epoch: 22 |  TrainLoss: 0.57 | TestLoss: 0.51 | TestAcc: 0.91 | TestF1: 0.91\n",
            "Epoch: 23 |  TrainLoss: 0.53 | TestLoss: 0.52 | TestAcc: 0.72 | TestF1: 0.62\n",
            "Epoch: 24 |  TrainLoss: 0.51 | TestLoss: 0.62 | TestAcc: 0.56 | TestF1: 0.23\n",
            "Epoch: 25 |  TrainLoss: 0.54 | TestLoss: 0.51 | TestAcc: 0.70 | TestF1: 0.57\n",
            "Epoch: 26 |  TrainLoss: 0.48 | TestLoss: 0.46 | TestAcc: 0.85 | TestF1: 0.83\n",
            "Epoch: 27 |  TrainLoss: 0.45 | TestLoss: 0.44 | TestAcc: 0.88 | TestF1: 0.86\n",
            "Epoch: 28 |  TrainLoss: 0.45 | TestLoss: 0.49 | TestAcc: 0.71 | TestF1: 0.59\n",
            "Epoch: 29 |  TrainLoss: 0.46 | TestLoss: 0.43 | TestAcc: 0.88 | TestF1: 0.89\n",
            "Epoch: 30 |  TrainLoss: 0.47 | TestLoss: 0.41 | TestAcc: 0.90 | TestF1: 0.91\n",
            "Epoch: 31 |  TrainLoss: 0.42 | TestLoss: 0.39 | TestAcc: 0.89 | TestF1: 0.89\n",
            "Epoch: 32 |  TrainLoss: 0.42 | TestLoss: 0.47 | TestAcc: 0.72 | TestF1: 0.61\n",
            "Epoch: 33 |  TrainLoss: 0.45 | TestLoss: 0.43 | TestAcc: 0.78 | TestF1: 0.72\n",
            "Epoch: 34 |  TrainLoss: 0.42 | TestLoss: 0.42 | TestAcc: 0.84 | TestF1: 0.86\n",
            "Epoch: 35 |  TrainLoss: 0.43 | TestLoss: 0.45 | TestAcc: 0.77 | TestF1: 0.81\n",
            "Epoch: 36 |  TrainLoss: 0.46 | TestLoss: 0.53 | TestAcc: 0.65 | TestF1: 0.47\n",
            "Epoch: 37 |  TrainLoss: 0.44 | TestLoss: 0.35 | TestAcc: 0.93 | TestF1: 0.93\n",
            "Epoch: 38 |  TrainLoss: 0.35 | TestLoss: 0.35 | TestAcc: 0.92 | TestF1: 0.93\n",
            "Epoch: 39 |  TrainLoss: 0.36 | TestLoss: 0.35 | TestAcc: 0.93 | TestF1: 0.93\n"
          ]
        }
      ],
      "source": [
        "for epoch in range(40):\n",
        "    train_loss = train(epoch)\n",
        "    test_loss, test_acc, test_f1 = test(epoch)\n",
        "    print(f'Epoch: {epoch:02d} |  TrainLoss: {train_loss:.2f} | '\n",
        "          f'TestLoss: {test_loss:.2f} | TestAcc: {test_acc:.2f} | TestF1: {test_f1:.2f}')"
      ]
    },
    {
      "attachments": {},
      "cell_type": "markdown",
      "metadata": {},
      "source": [
        "This code block defines a training loop for training a graph neural network (GNN) model for fake news detection. The model, optimizer, and loss function are defined and instantiated earlier in the code and are assumed to be available in the current scope. The training and test data are assumed to be provided in the form of PyG data objects, which are loaded using the DataLoader class from the torch_geometric.loader module.\n",
        "\n",
        "The training loop consists of a for loop that iterates over a range of epochs. In each epoch, the model is trained on the training data using the train function, and then evaluated on the test data using the test function. The train function applies the forward pass of the model to the training data, calculates the loss using the BCE loss function, and performs backpropagation and optimization using the Adam optimizer. The test function applies the forward pass of the model to the test data, calculates the loss using the BCE loss function, and generates predictions and labels for calculating evaluation metrics.\n",
        "\n",
        "The train and test functions return the average loss per graph in the dataset. The test function also calculates the accuracy and F1 score of the predictions using the sklearn.metrics module, and returns these values along with the loss.\n",
        "\n",
        "The training loop prints the results of each epoch to the console, including the epoch number, the training loss, the test loss, the test accuracy, and the test F1 score. You can use this training loop as a starting point for training your own GNN model for fake news detection, and customize it to fit your specific needs. For example, you can modify the range of epochs, the batch size, the learning rate, and the weight decay of the optimizer to fine-tune the training process. You can also modify the evaluation metrics or add additional evaluation metrics to better suit your needs."
      ]
    },
    {
      "cell_type": "code",
      "execution_count": 16,
      "metadata": {
        "colab": {
          "base_uri": "https://localhost:8080/"
        },
        "id": "W_5IZcgCFyav",
        "outputId": "9e841cf1-9745-4a32-c01c-c354a2b6656f"
      },
      "outputs": [
        {
          "name": "stdout",
          "output_type": "stream",
          "text": [
            "   pred_logit  pred  true\n",
            "0    0.787179   1.0     1\n",
            "1    0.633123   1.0     1\n",
            "2    0.395464   0.0     0\n",
            "3    0.652719   1.0     1\n",
            "4    0.159506   0.0     0\n",
            "5    0.389069   0.0     0\n",
            "6    0.322906   0.0     0\n",
            "7    0.866497   1.0     1\n",
            "8    0.165356   0.0     0\n",
            "9    0.309897   0.0     0\n"
          ]
        }
      ],
      "source": [
        "for data in test_loader:\n",
        "    data = data.to(device)\n",
        "    pred = model(data.x, data.edge_index, data.batch)\n",
        "    df = pd.DataFrame()\n",
        "    df[\"pred_logit\"] = pred.detach().numpy()[:,0]\n",
        "    df[\"pred\"] = torch.round(pred).detach().numpy()[:,0]\n",
        "    df[\"true\"] = data.y.numpy()\n",
        "    print(df.head(10))\n",
        "    break"
      ]
    },
    {
      "attachments": {},
      "cell_type": "markdown",
      "metadata": {},
      "source": [
        "This code iterates through the test_loader object, which is a PyTorch DataLoader object containing the test data. For each batch of data in the test_loader, the code passes the data through the GNN model using the model's forward method and stores the output predictions in the pred variable.\n",
        "\n",
        "The code then creates a Pandas dataframe called df, which is an empty table-like data structure. The df dataframe has three columns: \"pred_logit\", \"pred\", and \"true\". The \"pred_logit\" column contains the logit values (i.e. the raw output of the model before applying the sigmoid activation function) of the predictions, the \"pred\" column contains the rounded predictions (i.e. the output of the model after applying the sigmoid activation function and rounding to 0 or 1), and the \"true\" column contains the true labels of the data.\n",
        "\n",
        "The code then stores the values of the pred and true variables in the \"pred\" and \"true\" columns of the df dataframe, respectively. Finally, the code prints the first 10 rows of the df dataframe using the head method. The break statement at the end of the loop exits the loop after the first batch has been processed, so only the first batch of test data is used.\n",
        "\n",
        "This code can be used to compare the predictions of the GNN model to the true labels of the test data, and to evaluate the performance of the model on the test set. You may need to modify the code to handle the specific structure of your data and to customize the output.\n",
        "\n",
        "----"
      ]
    },
    {
      "attachments": {},
      "cell_type": "markdown",
      "metadata": {},
      "source": [
        "# Summary:\n",
        "\n",
        "In this notebook, we have demonstrated how to use PyTorch Geometric (PyG) to perform fake news detection on a dataset of news propagation graphs extracted from Twitter. We have shown how to preprocess the data, define and train a graph neural network (GNN) model using PyG, and evaluate the model's performance on the test set.\n",
        "\n",
        "The UPFD dataset used in this example consists of user posts from online forums, with labels indicating whether the posts are real or fake. The data is represented as a graph, where each node represents a user or a news article, and each edge represents a retweet or mention. The node features are represented as a combination of Spacy Word2Vec embeddings and profile features.\n",
        "\n",
        "We have used the PyG DataLoader class to load and batch the data for training and testing, and have defined a GNN model with three graph attention convolution layers, a linear layer for processing the raw word2vec embeddings of the news articles, and a final linear layer and sigmoid activation function to produce binary classification outputs. We have used the Adam optimizer and the BCELoss function to train the model and optimize its parameters.\n",
        "\n",
        "Finally, we have used scikit-learn's accuracy_score and f1_score functions to calculate the accuracy and F1 score of the model on the test set. We have also demonstrated how to use the model to make predictions on individual samples and examine the output logits and predictions.\n",
        "\n",
        "Overall, this notebook serves as a guide for using PyG to perform fake news detection on news propagation graphs, and can be adapted and extended for other graph-based classification tasks."
      ]
    }
  ],
  "metadata": {
    "colab": {
      "provenance": []
    },
    "kernelspec": {
      "display_name": "Python 3",
      "language": "python",
      "name": "python3"
    },
    "language_info": {
      "name": "python",
      "version": "3.10.8 (main, Oct 13 2022, 09:48:40) [Clang 14.0.0 (clang-1400.0.29.102)]"
    },
    "vscode": {
      "interpreter": {
        "hash": "b0fa6594d8f4cbf19f97940f81e996739fb7646882a419484c72d19e05852a7e"
      }
    }
  },
  "nbformat": 4,
  "nbformat_minor": 0
}

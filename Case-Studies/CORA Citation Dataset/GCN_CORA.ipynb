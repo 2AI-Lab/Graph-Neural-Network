{
  "nbformat": 4,
  "nbformat_minor": 0,
  "metadata": {
    "colab": {
      "provenance": [],
      "collapsed_sections": [
        "se9VEb9oreW5"
      ]
    },
    "kernelspec": {
      "name": "python3",
      "display_name": "Python 3"
    },
    "language_info": {
      "name": "python"
    }
  },
  "cells": [
    {
      "cell_type": "markdown",
      "source": [
        "# Graph Convolutional Network (GCN) on the CORA citation dataset"
      ],
      "metadata": {
        "id": "se9VEb9oreW5"
      }
    },
    {
      "cell_type": "markdown",
      "source": [
        "This demo explains how to do node classification using the StellarGraph library. The StellarGraph library supports many state-of-the-art machine learning (ML) algorithms on graphs. In this notebook, we’ll be training a model to predict the class or label of a node, commonly known as node classification. We will also use the resulting model to compute vector embeddings for each node.\n",
        "\n",
        "There’s two necessary parts to be able to do this task:\n",
        "\n",
        "* a graph: this notebook uses the Cora dataset from https://linqs-data.soe.ucsc.edu/public/datasets/cora/. The dataset consists of academic publications as the nodes and the citations between them as the links: if publication A cites publication B, then the graph has an edge from A to B. The nodes are classified into one of seven subjects, and our model will learn to predict this subject.\n",
        "* an algorithm: this notebook uses a Graph Convolution Network (GCN) [1]. The core of the GCN neural network model is a “graph convolution” layer. This layer is similar to a conventional dense layer, augmented by the graph adjacency matrix to use information about a node’s connections. This algorithm is discussed in more detail in “Knowing Your Neighbours: Machine Learning on Graphs”."
      ],
      "metadata": {
        "id": "BsoY89zOtlph"
      }
    },
    {
      "cell_type": "markdown",
      "source": [
        "The notebook walks through three sections:\n",
        "\n",
        "1. Data preparation using Pandas and scikit-learn: loading the graph from CSV files, doing some basic introspection, and splitting it into train, test and validation splits for ML.\n",
        "2. Creating the GCN layers and data input using [StellarGraph](https://stellargraph.readthedocs.io/en/stable/).\n",
        "3. Training and evaluating the model using TensorFlow Keras, Pandas and scikit-learn.\n",
        "\n",
        "Notably, only section 2 needs StellarGraph: section 1 and section 3 are driven by the existing flexible functionality in common and popular data science libraries. Most of the algorithms supported by StellarGraph follow this pattern, where the custom StellarGraph functionality integrates smoothly with the conventional data science work-flow.\n",
        "\n",
        "StellarGraph supports other algorithms for doing node classification, as well as many other tasks such as link prediction, community detection, and representation learning.\n",
        "\n",
        "[Graph Convolutional Networks (GCN): Semi-Supervised Classification with Graph Convolutional Networks. Thomas N. Kipf, Max Welling.](https://github.com/tkipf/gcn) International Conference on Learning Representations (ICLR), 2017"
      ],
      "metadata": {
        "id": "v1jipJvIuTXi"
      }
    },
    {
      "cell_type": "code",
      "execution_count": 1,
      "metadata": {
        "colab": {
          "base_uri": "https://localhost:8080/"
        },
        "id": "Xn_17oWwrToN",
        "outputId": "fdb8b4b0-4d43-4814-e275-dfb43920e783"
      },
      "outputs": [
        {
          "output_type": "stream",
          "name": "stdout",
          "text": [
            "\u001b[K     |████████████████████████████████| 374 kB 8.6 MB/s \n",
            "\u001b[K     |████████████████████████████████| 500 kB 17.4 MB/s \n",
            "\u001b[K     |████████████████████████████████| 121 kB 57.8 MB/s \n",
            "\u001b[K     |████████████████████████████████| 1.6 MB 58.2 MB/s \n",
            "\u001b[K     |████████████████████████████████| 83 kB 2.2 MB/s \n",
            "\u001b[K     |████████████████████████████████| 41 kB 612 kB/s \n",
            "\u001b[?25h  Building wheel for mplleaflet (setup.py) ... \u001b[?25l\u001b[?25hdone\n"
          ]
        }
      ],
      "source": [
        "# install StellarGraph if running on Google Colab\n",
        "import sys\n",
        "if 'google.colab' in sys.modules:\n",
        "  %pip install -q stellargraph[demos]==1.0.0rc1"
      ]
    },
    {
      "cell_type": "code",
      "source": [
        "# verify that we're using the correct version of StellarGraph for this notebook\n",
        "import stellargraph as sg\n",
        "\n",
        "try:\n",
        "    sg.utils.validate_notebook_version(\"1.0.0rc1\")\n",
        "except AttributeError:\n",
        "    raise ValueError(\n",
        "        f\"This notebook requires StellarGraph version 1.0.0rc1, but a different version {sg.__version__} is installed.  Please see <https://github.com/stellargraph/stellargraph/issues/1172>.\"\n",
        "    ) from None"
      ],
      "metadata": {
        "id": "a1Y4Eurp0fnO"
      },
      "execution_count": 2,
      "outputs": []
    },
    {
      "cell_type": "code",
      "source": [
        "import pandas as pd\n",
        "import os\n",
        "\n",
        "import stellargraph as sg\n",
        "from stellargraph.mapper import FullBatchNodeGenerator\n",
        "from stellargraph.layer import GCN\n",
        "\n",
        "from tensorflow.keras import layers, optimizers, losses, metrics, Model\n",
        "from sklearn import preprocessing, model_selection\n",
        "from IPython.display import display, HTML\n",
        "import matplotlib.pyplot as plt\n",
        "%matplotlib inline"
      ],
      "metadata": {
        "id": "fdbIJPMH0kB_"
      },
      "execution_count": 3,
      "outputs": []
    },
    {
      "cell_type": "markdown",
      "source": [
        "# 1. Data Preparation\n",
        "Loading the CORA network"
      ],
      "metadata": {
        "id": "EWl1W9ZD2QKI"
      }
    },
    {
      "cell_type": "markdown",
      "source": [
        "We can retrieve a StellarGraph graph object holding this Cora dataset using the ``Cora` loader <https://stellargraph.readthedocs.io/en/stable/api.html#stellargraph.datasets.datasets.Cora>`__ from the ``datasets` submodule <https://stellargraph.readthedocs.io/en/stable/api.html#module-stellargraph.datasets.datasets>`__. It also provides us with the ground-truth node subject classes. This function is implemented using Pandas, see the “Loading data into StellarGraph from Pandas” notebook for details.\n",
        "\n",
        "(Note: Cora is a citation network, which is a directed graph, but, like most users of this graph, we ignore the edge direction and treat it as undirected.)"
      ],
      "metadata": {
        "id": "CLMBSUuO2WXA"
      }
    },
    {
      "cell_type": "code",
      "source": [
        "dataset = sg.datasets.Cora()\n",
        "display(HTML(dataset.description))\n",
        "G, node_subjects = dataset.load()"
      ],
      "metadata": {
        "colab": {
          "base_uri": "https://localhost:8080/",
          "height": 52
        },
        "id": "SYwp1BMk2PuA",
        "outputId": "f9a9754f-f9b1-4cc2-96b8-74f3562e794c"
      },
      "execution_count": 4,
      "outputs": [
        {
          "output_type": "display_data",
          "data": {
            "text/plain": [
              "<IPython.core.display.HTML object>"
            ],
            "text/html": [
              "The Cora dataset consists of 2708 scientific publications classified into one of seven classes. The citation network consists of 5429 links. Each publication in the dataset is described by a 0/1-valued word vector indicating the absence/presence of the corresponding word from the dictionary. The dictionary consists of 1433 unique words."
            ]
          },
          "metadata": {}
        }
      ]
    },
    {
      "cell_type": "markdown",
      "source": [
        "The info method can help us verify that our loaded graph matches the description:"
      ],
      "metadata": {
        "id": "_Tu2Xw3r2hRK"
      }
    },
    {
      "cell_type": "code",
      "source": [
        "print(G.info())"
      ],
      "metadata": {
        "colab": {
          "base_uri": "https://localhost:8080/"
        },
        "id": "CYwG_P3K2Pqw",
        "outputId": "0c1c6c5e-22d6-44a4-c4b9-dc3e629a1372"
      },
      "execution_count": 5,
      "outputs": [
        {
          "output_type": "stream",
          "name": "stdout",
          "text": [
            "StellarGraph: Undirected multigraph\n",
            " Nodes: 2708, Edges: 5429\n",
            "\n",
            " Node types:\n",
            "  paper: [2708]\n",
            "    Features: float32 vector, length 1433\n",
            "    Edge types: paper-cites->paper\n",
            "\n",
            " Edge types:\n",
            "    paper-cites->paper: [5429]\n",
            "        Weights: all 1 (default)\n"
          ]
        }
      ]
    },
    {
      "cell_type": "markdown",
      "source": [
        "We aim to train a graph-ML model that will predict the “subject” attribute on the nodes. These subjects are one of 7 categories, with some categories more common than others:"
      ],
      "metadata": {
        "id": "I0mwZdh32ouS"
      }
    },
    {
      "cell_type": "code",
      "source": [
        "node_subjects.value_counts().to_frame()"
      ],
      "metadata": {
        "colab": {
          "base_uri": "https://localhost:8080/",
          "height": 269
        },
        "id": "-zLpPky52ILO",
        "outputId": "ccbda840-4445-474c-c7b5-166e19c51063"
      },
      "execution_count": 6,
      "outputs": [
        {
          "output_type": "execute_result",
          "data": {
            "text/plain": [
              "                        subject\n",
              "Neural_Networks             818\n",
              "Probabilistic_Methods       426\n",
              "Genetic_Algorithms          418\n",
              "Theory                      351\n",
              "Case_Based                  298\n",
              "Reinforcement_Learning      217\n",
              "Rule_Learning               180"
            ],
            "text/html": [
              "\n",
              "  <div id=\"df-9348fb36-6e51-4b00-a980-4dc8246c0f3c\">\n",
              "    <div class=\"colab-df-container\">\n",
              "      <div>\n",
              "<style scoped>\n",
              "    .dataframe tbody tr th:only-of-type {\n",
              "        vertical-align: middle;\n",
              "    }\n",
              "\n",
              "    .dataframe tbody tr th {\n",
              "        vertical-align: top;\n",
              "    }\n",
              "\n",
              "    .dataframe thead th {\n",
              "        text-align: right;\n",
              "    }\n",
              "</style>\n",
              "<table border=\"1\" class=\"dataframe\">\n",
              "  <thead>\n",
              "    <tr style=\"text-align: right;\">\n",
              "      <th></th>\n",
              "      <th>subject</th>\n",
              "    </tr>\n",
              "  </thead>\n",
              "  <tbody>\n",
              "    <tr>\n",
              "      <th>Neural_Networks</th>\n",
              "      <td>818</td>\n",
              "    </tr>\n",
              "    <tr>\n",
              "      <th>Probabilistic_Methods</th>\n",
              "      <td>426</td>\n",
              "    </tr>\n",
              "    <tr>\n",
              "      <th>Genetic_Algorithms</th>\n",
              "      <td>418</td>\n",
              "    </tr>\n",
              "    <tr>\n",
              "      <th>Theory</th>\n",
              "      <td>351</td>\n",
              "    </tr>\n",
              "    <tr>\n",
              "      <th>Case_Based</th>\n",
              "      <td>298</td>\n",
              "    </tr>\n",
              "    <tr>\n",
              "      <th>Reinforcement_Learning</th>\n",
              "      <td>217</td>\n",
              "    </tr>\n",
              "    <tr>\n",
              "      <th>Rule_Learning</th>\n",
              "      <td>180</td>\n",
              "    </tr>\n",
              "  </tbody>\n",
              "</table>\n",
              "</div>\n",
              "      <button class=\"colab-df-convert\" onclick=\"convertToInteractive('df-9348fb36-6e51-4b00-a980-4dc8246c0f3c')\"\n",
              "              title=\"Convert this dataframe to an interactive table.\"\n",
              "              style=\"display:none;\">\n",
              "        \n",
              "  <svg xmlns=\"http://www.w3.org/2000/svg\" height=\"24px\"viewBox=\"0 0 24 24\"\n",
              "       width=\"24px\">\n",
              "    <path d=\"M0 0h24v24H0V0z\" fill=\"none\"/>\n",
              "    <path d=\"M18.56 5.44l.94 2.06.94-2.06 2.06-.94-2.06-.94-.94-2.06-.94 2.06-2.06.94zm-11 1L8.5 8.5l.94-2.06 2.06-.94-2.06-.94L8.5 2.5l-.94 2.06-2.06.94zm10 10l.94 2.06.94-2.06 2.06-.94-2.06-.94-.94-2.06-.94 2.06-2.06.94z\"/><path d=\"M17.41 7.96l-1.37-1.37c-.4-.4-.92-.59-1.43-.59-.52 0-1.04.2-1.43.59L10.3 9.45l-7.72 7.72c-.78.78-.78 2.05 0 2.83L4 21.41c.39.39.9.59 1.41.59.51 0 1.02-.2 1.41-.59l7.78-7.78 2.81-2.81c.8-.78.8-2.07 0-2.86zM5.41 20L4 18.59l7.72-7.72 1.47 1.35L5.41 20z\"/>\n",
              "  </svg>\n",
              "      </button>\n",
              "      \n",
              "  <style>\n",
              "    .colab-df-container {\n",
              "      display:flex;\n",
              "      flex-wrap:wrap;\n",
              "      gap: 12px;\n",
              "    }\n",
              "\n",
              "    .colab-df-convert {\n",
              "      background-color: #E8F0FE;\n",
              "      border: none;\n",
              "      border-radius: 50%;\n",
              "      cursor: pointer;\n",
              "      display: none;\n",
              "      fill: #1967D2;\n",
              "      height: 32px;\n",
              "      padding: 0 0 0 0;\n",
              "      width: 32px;\n",
              "    }\n",
              "\n",
              "    .colab-df-convert:hover {\n",
              "      background-color: #E2EBFA;\n",
              "      box-shadow: 0px 1px 2px rgba(60, 64, 67, 0.3), 0px 1px 3px 1px rgba(60, 64, 67, 0.15);\n",
              "      fill: #174EA6;\n",
              "    }\n",
              "\n",
              "    [theme=dark] .colab-df-convert {\n",
              "      background-color: #3B4455;\n",
              "      fill: #D2E3FC;\n",
              "    }\n",
              "\n",
              "    [theme=dark] .colab-df-convert:hover {\n",
              "      background-color: #434B5C;\n",
              "      box-shadow: 0px 1px 3px 1px rgba(0, 0, 0, 0.15);\n",
              "      filter: drop-shadow(0px 1px 2px rgba(0, 0, 0, 0.3));\n",
              "      fill: #FFFFFF;\n",
              "    }\n",
              "  </style>\n",
              "\n",
              "      <script>\n",
              "        const buttonEl =\n",
              "          document.querySelector('#df-9348fb36-6e51-4b00-a980-4dc8246c0f3c button.colab-df-convert');\n",
              "        buttonEl.style.display =\n",
              "          google.colab.kernel.accessAllowed ? 'block' : 'none';\n",
              "\n",
              "        async function convertToInteractive(key) {\n",
              "          const element = document.querySelector('#df-9348fb36-6e51-4b00-a980-4dc8246c0f3c');\n",
              "          const dataTable =\n",
              "            await google.colab.kernel.invokeFunction('convertToInteractive',\n",
              "                                                     [key], {});\n",
              "          if (!dataTable) return;\n",
              "\n",
              "          const docLinkHtml = 'Like what you see? Visit the ' +\n",
              "            '<a target=\"_blank\" href=https://colab.research.google.com/notebooks/data_table.ipynb>data table notebook</a>'\n",
              "            + ' to learn more about interactive tables.';\n",
              "          element.innerHTML = '';\n",
              "          dataTable['output_type'] = 'display_data';\n",
              "          await google.colab.output.renderOutput(dataTable, element);\n",
              "          const docLink = document.createElement('div');\n",
              "          docLink.innerHTML = docLinkHtml;\n",
              "          element.appendChild(docLink);\n",
              "        }\n",
              "      </script>\n",
              "    </div>\n",
              "  </div>\n",
              "  "
            ]
          },
          "metadata": {},
          "execution_count": 6
        }
      ]
    },
    {
      "cell_type": "markdown",
      "source": [
        "Splitting the data"
      ],
      "metadata": {
        "id": "CAyhgEEs2ueT"
      }
    },
    {
      "cell_type": "markdown",
      "source": [
        "For machine learning we want to take a subset of the nodes for training, and use the rest for validation and testing. We’ll use scikit-learn’s ``train_test_split` function <https://scikit-learn.org/stable/modules/generated/sklearn.model_selection.train_test_split.html>`__ to do this.\n",
        "\n",
        "Here we’re taking 140 node labels for training, 500 for validation, and the rest for testing."
      ],
      "metadata": {
        "id": "n12DPcHd2wdT"
      }
    },
    {
      "cell_type": "code",
      "source": [
        "train_subjects, test_subjects = model_selection.train_test_split(\n",
        "    node_subjects, train_size=140, test_size=None, stratify=node_subjects\n",
        ")\n",
        "val_subjects, test_subjects = model_selection.train_test_split(\n",
        "    test_subjects, train_size=500, test_size=None, stratify=test_subjects\n",
        ")"
      ],
      "metadata": {
        "id": "ai88ggFp2rhi"
      },
      "execution_count": 7,
      "outputs": []
    },
    {
      "cell_type": "markdown",
      "source": [
        "Note using stratified sampling gives the following counts:"
      ],
      "metadata": {
        "id": "rPfv58NX26bz"
      }
    },
    {
      "cell_type": "code",
      "source": [
        "train_subjects.value_counts().to_frame()"
      ],
      "metadata": {
        "colab": {
          "base_uri": "https://localhost:8080/",
          "height": 269
        },
        "id": "-LpIeaxu2zOj",
        "outputId": "20d72a27-4009-4c4e-e488-b7b7015b0096"
      },
      "execution_count": 8,
      "outputs": [
        {
          "output_type": "execute_result",
          "data": {
            "text/plain": [
              "                        subject\n",
              "Neural_Networks              42\n",
              "Probabilistic_Methods        22\n",
              "Genetic_Algorithms           22\n",
              "Theory                       18\n",
              "Case_Based                   16\n",
              "Reinforcement_Learning       11\n",
              "Rule_Learning                 9"
            ],
            "text/html": [
              "\n",
              "  <div id=\"df-7a52928e-9a79-441f-a0ed-3724406ec295\">\n",
              "    <div class=\"colab-df-container\">\n",
              "      <div>\n",
              "<style scoped>\n",
              "    .dataframe tbody tr th:only-of-type {\n",
              "        vertical-align: middle;\n",
              "    }\n",
              "\n",
              "    .dataframe tbody tr th {\n",
              "        vertical-align: top;\n",
              "    }\n",
              "\n",
              "    .dataframe thead th {\n",
              "        text-align: right;\n",
              "    }\n",
              "</style>\n",
              "<table border=\"1\" class=\"dataframe\">\n",
              "  <thead>\n",
              "    <tr style=\"text-align: right;\">\n",
              "      <th></th>\n",
              "      <th>subject</th>\n",
              "    </tr>\n",
              "  </thead>\n",
              "  <tbody>\n",
              "    <tr>\n",
              "      <th>Neural_Networks</th>\n",
              "      <td>42</td>\n",
              "    </tr>\n",
              "    <tr>\n",
              "      <th>Probabilistic_Methods</th>\n",
              "      <td>22</td>\n",
              "    </tr>\n",
              "    <tr>\n",
              "      <th>Genetic_Algorithms</th>\n",
              "      <td>22</td>\n",
              "    </tr>\n",
              "    <tr>\n",
              "      <th>Theory</th>\n",
              "      <td>18</td>\n",
              "    </tr>\n",
              "    <tr>\n",
              "      <th>Case_Based</th>\n",
              "      <td>16</td>\n",
              "    </tr>\n",
              "    <tr>\n",
              "      <th>Reinforcement_Learning</th>\n",
              "      <td>11</td>\n",
              "    </tr>\n",
              "    <tr>\n",
              "      <th>Rule_Learning</th>\n",
              "      <td>9</td>\n",
              "    </tr>\n",
              "  </tbody>\n",
              "</table>\n",
              "</div>\n",
              "      <button class=\"colab-df-convert\" onclick=\"convertToInteractive('df-7a52928e-9a79-441f-a0ed-3724406ec295')\"\n",
              "              title=\"Convert this dataframe to an interactive table.\"\n",
              "              style=\"display:none;\">\n",
              "        \n",
              "  <svg xmlns=\"http://www.w3.org/2000/svg\" height=\"24px\"viewBox=\"0 0 24 24\"\n",
              "       width=\"24px\">\n",
              "    <path d=\"M0 0h24v24H0V0z\" fill=\"none\"/>\n",
              "    <path d=\"M18.56 5.44l.94 2.06.94-2.06 2.06-.94-2.06-.94-.94-2.06-.94 2.06-2.06.94zm-11 1L8.5 8.5l.94-2.06 2.06-.94-2.06-.94L8.5 2.5l-.94 2.06-2.06.94zm10 10l.94 2.06.94-2.06 2.06-.94-2.06-.94-.94-2.06-.94 2.06-2.06.94z\"/><path d=\"M17.41 7.96l-1.37-1.37c-.4-.4-.92-.59-1.43-.59-.52 0-1.04.2-1.43.59L10.3 9.45l-7.72 7.72c-.78.78-.78 2.05 0 2.83L4 21.41c.39.39.9.59 1.41.59.51 0 1.02-.2 1.41-.59l7.78-7.78 2.81-2.81c.8-.78.8-2.07 0-2.86zM5.41 20L4 18.59l7.72-7.72 1.47 1.35L5.41 20z\"/>\n",
              "  </svg>\n",
              "      </button>\n",
              "      \n",
              "  <style>\n",
              "    .colab-df-container {\n",
              "      display:flex;\n",
              "      flex-wrap:wrap;\n",
              "      gap: 12px;\n",
              "    }\n",
              "\n",
              "    .colab-df-convert {\n",
              "      background-color: #E8F0FE;\n",
              "      border: none;\n",
              "      border-radius: 50%;\n",
              "      cursor: pointer;\n",
              "      display: none;\n",
              "      fill: #1967D2;\n",
              "      height: 32px;\n",
              "      padding: 0 0 0 0;\n",
              "      width: 32px;\n",
              "    }\n",
              "\n",
              "    .colab-df-convert:hover {\n",
              "      background-color: #E2EBFA;\n",
              "      box-shadow: 0px 1px 2px rgba(60, 64, 67, 0.3), 0px 1px 3px 1px rgba(60, 64, 67, 0.15);\n",
              "      fill: #174EA6;\n",
              "    }\n",
              "\n",
              "    [theme=dark] .colab-df-convert {\n",
              "      background-color: #3B4455;\n",
              "      fill: #D2E3FC;\n",
              "    }\n",
              "\n",
              "    [theme=dark] .colab-df-convert:hover {\n",
              "      background-color: #434B5C;\n",
              "      box-shadow: 0px 1px 3px 1px rgba(0, 0, 0, 0.15);\n",
              "      filter: drop-shadow(0px 1px 2px rgba(0, 0, 0, 0.3));\n",
              "      fill: #FFFFFF;\n",
              "    }\n",
              "  </style>\n",
              "\n",
              "      <script>\n",
              "        const buttonEl =\n",
              "          document.querySelector('#df-7a52928e-9a79-441f-a0ed-3724406ec295 button.colab-df-convert');\n",
              "        buttonEl.style.display =\n",
              "          google.colab.kernel.accessAllowed ? 'block' : 'none';\n",
              "\n",
              "        async function convertToInteractive(key) {\n",
              "          const element = document.querySelector('#df-7a52928e-9a79-441f-a0ed-3724406ec295');\n",
              "          const dataTable =\n",
              "            await google.colab.kernel.invokeFunction('convertToInteractive',\n",
              "                                                     [key], {});\n",
              "          if (!dataTable) return;\n",
              "\n",
              "          const docLinkHtml = 'Like what you see? Visit the ' +\n",
              "            '<a target=\"_blank\" href=https://colab.research.google.com/notebooks/data_table.ipynb>data table notebook</a>'\n",
              "            + ' to learn more about interactive tables.';\n",
              "          element.innerHTML = '';\n",
              "          dataTable['output_type'] = 'display_data';\n",
              "          await google.colab.output.renderOutput(dataTable, element);\n",
              "          const docLink = document.createElement('div');\n",
              "          docLink.innerHTML = docLinkHtml;\n",
              "          element.appendChild(docLink);\n",
              "        }\n",
              "      </script>\n",
              "    </div>\n",
              "  </div>\n",
              "  "
            ]
          },
          "metadata": {},
          "execution_count": 8
        }
      ]
    },
    {
      "cell_type": "code",
      "source": [
        "val_subjects.value_counts().to_frame()\n"
      ],
      "metadata": {
        "colab": {
          "base_uri": "https://localhost:8080/",
          "height": 269
        },
        "id": "7yinE79z3tKE",
        "outputId": "72e3f096-5c6b-4ea7-bb00-e9e877c5d2dc"
      },
      "execution_count": 10,
      "outputs": [
        {
          "output_type": "execute_result",
          "data": {
            "text/plain": [
              "                        subject\n",
              "Neural_Networks             151\n",
              "Probabilistic_Methods        79\n",
              "Genetic_Algorithms           77\n",
              "Theory                       65\n",
              "Case_Based                   55\n",
              "Reinforcement_Learning       40\n",
              "Rule_Learning                33"
            ],
            "text/html": [
              "\n",
              "  <div id=\"df-fac734d5-f405-413b-a347-d2a4b385bbdd\">\n",
              "    <div class=\"colab-df-container\">\n",
              "      <div>\n",
              "<style scoped>\n",
              "    .dataframe tbody tr th:only-of-type {\n",
              "        vertical-align: middle;\n",
              "    }\n",
              "\n",
              "    .dataframe tbody tr th {\n",
              "        vertical-align: top;\n",
              "    }\n",
              "\n",
              "    .dataframe thead th {\n",
              "        text-align: right;\n",
              "    }\n",
              "</style>\n",
              "<table border=\"1\" class=\"dataframe\">\n",
              "  <thead>\n",
              "    <tr style=\"text-align: right;\">\n",
              "      <th></th>\n",
              "      <th>subject</th>\n",
              "    </tr>\n",
              "  </thead>\n",
              "  <tbody>\n",
              "    <tr>\n",
              "      <th>Neural_Networks</th>\n",
              "      <td>151</td>\n",
              "    </tr>\n",
              "    <tr>\n",
              "      <th>Probabilistic_Methods</th>\n",
              "      <td>79</td>\n",
              "    </tr>\n",
              "    <tr>\n",
              "      <th>Genetic_Algorithms</th>\n",
              "      <td>77</td>\n",
              "    </tr>\n",
              "    <tr>\n",
              "      <th>Theory</th>\n",
              "      <td>65</td>\n",
              "    </tr>\n",
              "    <tr>\n",
              "      <th>Case_Based</th>\n",
              "      <td>55</td>\n",
              "    </tr>\n",
              "    <tr>\n",
              "      <th>Reinforcement_Learning</th>\n",
              "      <td>40</td>\n",
              "    </tr>\n",
              "    <tr>\n",
              "      <th>Rule_Learning</th>\n",
              "      <td>33</td>\n",
              "    </tr>\n",
              "  </tbody>\n",
              "</table>\n",
              "</div>\n",
              "      <button class=\"colab-df-convert\" onclick=\"convertToInteractive('df-fac734d5-f405-413b-a347-d2a4b385bbdd')\"\n",
              "              title=\"Convert this dataframe to an interactive table.\"\n",
              "              style=\"display:none;\">\n",
              "        \n",
              "  <svg xmlns=\"http://www.w3.org/2000/svg\" height=\"24px\"viewBox=\"0 0 24 24\"\n",
              "       width=\"24px\">\n",
              "    <path d=\"M0 0h24v24H0V0z\" fill=\"none\"/>\n",
              "    <path d=\"M18.56 5.44l.94 2.06.94-2.06 2.06-.94-2.06-.94-.94-2.06-.94 2.06-2.06.94zm-11 1L8.5 8.5l.94-2.06 2.06-.94-2.06-.94L8.5 2.5l-.94 2.06-2.06.94zm10 10l.94 2.06.94-2.06 2.06-.94-2.06-.94-.94-2.06-.94 2.06-2.06.94z\"/><path d=\"M17.41 7.96l-1.37-1.37c-.4-.4-.92-.59-1.43-.59-.52 0-1.04.2-1.43.59L10.3 9.45l-7.72 7.72c-.78.78-.78 2.05 0 2.83L4 21.41c.39.39.9.59 1.41.59.51 0 1.02-.2 1.41-.59l7.78-7.78 2.81-2.81c.8-.78.8-2.07 0-2.86zM5.41 20L4 18.59l7.72-7.72 1.47 1.35L5.41 20z\"/>\n",
              "  </svg>\n",
              "      </button>\n",
              "      \n",
              "  <style>\n",
              "    .colab-df-container {\n",
              "      display:flex;\n",
              "      flex-wrap:wrap;\n",
              "      gap: 12px;\n",
              "    }\n",
              "\n",
              "    .colab-df-convert {\n",
              "      background-color: #E8F0FE;\n",
              "      border: none;\n",
              "      border-radius: 50%;\n",
              "      cursor: pointer;\n",
              "      display: none;\n",
              "      fill: #1967D2;\n",
              "      height: 32px;\n",
              "      padding: 0 0 0 0;\n",
              "      width: 32px;\n",
              "    }\n",
              "\n",
              "    .colab-df-convert:hover {\n",
              "      background-color: #E2EBFA;\n",
              "      box-shadow: 0px 1px 2px rgba(60, 64, 67, 0.3), 0px 1px 3px 1px rgba(60, 64, 67, 0.15);\n",
              "      fill: #174EA6;\n",
              "    }\n",
              "\n",
              "    [theme=dark] .colab-df-convert {\n",
              "      background-color: #3B4455;\n",
              "      fill: #D2E3FC;\n",
              "    }\n",
              "\n",
              "    [theme=dark] .colab-df-convert:hover {\n",
              "      background-color: #434B5C;\n",
              "      box-shadow: 0px 1px 3px 1px rgba(0, 0, 0, 0.15);\n",
              "      filter: drop-shadow(0px 1px 2px rgba(0, 0, 0, 0.3));\n",
              "      fill: #FFFFFF;\n",
              "    }\n",
              "  </style>\n",
              "\n",
              "      <script>\n",
              "        const buttonEl =\n",
              "          document.querySelector('#df-fac734d5-f405-413b-a347-d2a4b385bbdd button.colab-df-convert');\n",
              "        buttonEl.style.display =\n",
              "          google.colab.kernel.accessAllowed ? 'block' : 'none';\n",
              "\n",
              "        async function convertToInteractive(key) {\n",
              "          const element = document.querySelector('#df-fac734d5-f405-413b-a347-d2a4b385bbdd');\n",
              "          const dataTable =\n",
              "            await google.colab.kernel.invokeFunction('convertToInteractive',\n",
              "                                                     [key], {});\n",
              "          if (!dataTable) return;\n",
              "\n",
              "          const docLinkHtml = 'Like what you see? Visit the ' +\n",
              "            '<a target=\"_blank\" href=https://colab.research.google.com/notebooks/data_table.ipynb>data table notebook</a>'\n",
              "            + ' to learn more about interactive tables.';\n",
              "          element.innerHTML = '';\n",
              "          dataTable['output_type'] = 'display_data';\n",
              "          await google.colab.output.renderOutput(dataTable, element);\n",
              "          const docLink = document.createElement('div');\n",
              "          docLink.innerHTML = docLinkHtml;\n",
              "          element.appendChild(docLink);\n",
              "        }\n",
              "      </script>\n",
              "    </div>\n",
              "  </div>\n",
              "  "
            ]
          },
          "metadata": {},
          "execution_count": 10
        }
      ]
    },
    {
      "cell_type": "code",
      "source": [
        "test_subjects.value_counts().to_frame()"
      ],
      "metadata": {
        "colab": {
          "base_uri": "https://localhost:8080/",
          "height": 269
        },
        "id": "HZYutZ2B3zu0",
        "outputId": "c80deaeb-3e97-4b01-f634-a8a2759ab2cb"
      },
      "execution_count": 11,
      "outputs": [
        {
          "output_type": "execute_result",
          "data": {
            "text/plain": [
              "                        subject\n",
              "Neural_Networks             625\n",
              "Probabilistic_Methods       325\n",
              "Genetic_Algorithms          319\n",
              "Theory                      268\n",
              "Case_Based                  227\n",
              "Reinforcement_Learning      166\n",
              "Rule_Learning               138"
            ],
            "text/html": [
              "\n",
              "  <div id=\"df-4773133a-dcb4-49bb-bbfd-6684c3a824f5\">\n",
              "    <div class=\"colab-df-container\">\n",
              "      <div>\n",
              "<style scoped>\n",
              "    .dataframe tbody tr th:only-of-type {\n",
              "        vertical-align: middle;\n",
              "    }\n",
              "\n",
              "    .dataframe tbody tr th {\n",
              "        vertical-align: top;\n",
              "    }\n",
              "\n",
              "    .dataframe thead th {\n",
              "        text-align: right;\n",
              "    }\n",
              "</style>\n",
              "<table border=\"1\" class=\"dataframe\">\n",
              "  <thead>\n",
              "    <tr style=\"text-align: right;\">\n",
              "      <th></th>\n",
              "      <th>subject</th>\n",
              "    </tr>\n",
              "  </thead>\n",
              "  <tbody>\n",
              "    <tr>\n",
              "      <th>Neural_Networks</th>\n",
              "      <td>625</td>\n",
              "    </tr>\n",
              "    <tr>\n",
              "      <th>Probabilistic_Methods</th>\n",
              "      <td>325</td>\n",
              "    </tr>\n",
              "    <tr>\n",
              "      <th>Genetic_Algorithms</th>\n",
              "      <td>319</td>\n",
              "    </tr>\n",
              "    <tr>\n",
              "      <th>Theory</th>\n",
              "      <td>268</td>\n",
              "    </tr>\n",
              "    <tr>\n",
              "      <th>Case_Based</th>\n",
              "      <td>227</td>\n",
              "    </tr>\n",
              "    <tr>\n",
              "      <th>Reinforcement_Learning</th>\n",
              "      <td>166</td>\n",
              "    </tr>\n",
              "    <tr>\n",
              "      <th>Rule_Learning</th>\n",
              "      <td>138</td>\n",
              "    </tr>\n",
              "  </tbody>\n",
              "</table>\n",
              "</div>\n",
              "      <button class=\"colab-df-convert\" onclick=\"convertToInteractive('df-4773133a-dcb4-49bb-bbfd-6684c3a824f5')\"\n",
              "              title=\"Convert this dataframe to an interactive table.\"\n",
              "              style=\"display:none;\">\n",
              "        \n",
              "  <svg xmlns=\"http://www.w3.org/2000/svg\" height=\"24px\"viewBox=\"0 0 24 24\"\n",
              "       width=\"24px\">\n",
              "    <path d=\"M0 0h24v24H0V0z\" fill=\"none\"/>\n",
              "    <path d=\"M18.56 5.44l.94 2.06.94-2.06 2.06-.94-2.06-.94-.94-2.06-.94 2.06-2.06.94zm-11 1L8.5 8.5l.94-2.06 2.06-.94-2.06-.94L8.5 2.5l-.94 2.06-2.06.94zm10 10l.94 2.06.94-2.06 2.06-.94-2.06-.94-.94-2.06-.94 2.06-2.06.94z\"/><path d=\"M17.41 7.96l-1.37-1.37c-.4-.4-.92-.59-1.43-.59-.52 0-1.04.2-1.43.59L10.3 9.45l-7.72 7.72c-.78.78-.78 2.05 0 2.83L4 21.41c.39.39.9.59 1.41.59.51 0 1.02-.2 1.41-.59l7.78-7.78 2.81-2.81c.8-.78.8-2.07 0-2.86zM5.41 20L4 18.59l7.72-7.72 1.47 1.35L5.41 20z\"/>\n",
              "  </svg>\n",
              "      </button>\n",
              "      \n",
              "  <style>\n",
              "    .colab-df-container {\n",
              "      display:flex;\n",
              "      flex-wrap:wrap;\n",
              "      gap: 12px;\n",
              "    }\n",
              "\n",
              "    .colab-df-convert {\n",
              "      background-color: #E8F0FE;\n",
              "      border: none;\n",
              "      border-radius: 50%;\n",
              "      cursor: pointer;\n",
              "      display: none;\n",
              "      fill: #1967D2;\n",
              "      height: 32px;\n",
              "      padding: 0 0 0 0;\n",
              "      width: 32px;\n",
              "    }\n",
              "\n",
              "    .colab-df-convert:hover {\n",
              "      background-color: #E2EBFA;\n",
              "      box-shadow: 0px 1px 2px rgba(60, 64, 67, 0.3), 0px 1px 3px 1px rgba(60, 64, 67, 0.15);\n",
              "      fill: #174EA6;\n",
              "    }\n",
              "\n",
              "    [theme=dark] .colab-df-convert {\n",
              "      background-color: #3B4455;\n",
              "      fill: #D2E3FC;\n",
              "    }\n",
              "\n",
              "    [theme=dark] .colab-df-convert:hover {\n",
              "      background-color: #434B5C;\n",
              "      box-shadow: 0px 1px 3px 1px rgba(0, 0, 0, 0.15);\n",
              "      filter: drop-shadow(0px 1px 2px rgba(0, 0, 0, 0.3));\n",
              "      fill: #FFFFFF;\n",
              "    }\n",
              "  </style>\n",
              "\n",
              "      <script>\n",
              "        const buttonEl =\n",
              "          document.querySelector('#df-4773133a-dcb4-49bb-bbfd-6684c3a824f5 button.colab-df-convert');\n",
              "        buttonEl.style.display =\n",
              "          google.colab.kernel.accessAllowed ? 'block' : 'none';\n",
              "\n",
              "        async function convertToInteractive(key) {\n",
              "          const element = document.querySelector('#df-4773133a-dcb4-49bb-bbfd-6684c3a824f5');\n",
              "          const dataTable =\n",
              "            await google.colab.kernel.invokeFunction('convertToInteractive',\n",
              "                                                     [key], {});\n",
              "          if (!dataTable) return;\n",
              "\n",
              "          const docLinkHtml = 'Like what you see? Visit the ' +\n",
              "            '<a target=\"_blank\" href=https://colab.research.google.com/notebooks/data_table.ipynb>data table notebook</a>'\n",
              "            + ' to learn more about interactive tables.';\n",
              "          element.innerHTML = '';\n",
              "          dataTable['output_type'] = 'display_data';\n",
              "          await google.colab.output.renderOutput(dataTable, element);\n",
              "          const docLink = document.createElement('div');\n",
              "          docLink.innerHTML = docLinkHtml;\n",
              "          element.appendChild(docLink);\n",
              "        }\n",
              "      </script>\n",
              "    </div>\n",
              "  </div>\n",
              "  "
            ]
          },
          "metadata": {},
          "execution_count": 11
        }
      ]
    },
    {
      "cell_type": "markdown",
      "source": [
        "The training set has class imbalance that might need to be compensated, e.g., via using a weighted cross-entropy loss in model training, with class weights inversely proportional to class support. However, we will ignore the class imbalance in this example, for simplicity."
      ],
      "metadata": {
        "id": "d3QVJFqd5oVg"
      }
    },
    {
      "cell_type": "markdown",
      "source": [
        "## Converting to numeric arrays"
      ],
      "metadata": {
        "id": "Hq465O7v5p-_"
      }
    },
    {
      "cell_type": "markdown",
      "source": [
        "For our categorical target, we will use one-hot vectors that will be compared against the model’s soft-max output. To do this conversion we can use the ``LabelBinarizer` transform <https://scikit-learn.org/stable/modules/generated/sklearn.preprocessing.LabelBinarizer.html>`__ from scikit-learn. Another option would be the ``pandas.get_dummies` function <https://pandas.pydata.org/pandas-docs/stable/reference/api/pandas.get_dummies.html>`__, but the scikit-learn transform allows us to do the inverse transform easily later in the notebook, to interpret the predictions."
      ],
      "metadata": {
        "id": "INJxlFqX5ypI"
      }
    },
    {
      "cell_type": "code",
      "source": [
        "target_encoding = preprocessing.LabelBinarizer()\n",
        "\n",
        "train_targets = target_encoding.fit_transform(train_subjects)\n",
        "val_targets = target_encoding.transform(val_subjects)\n",
        "test_targets = target_encoding.transform(test_subjects)"
      ],
      "metadata": {
        "id": "ESTkf2Gy5Dp3"
      },
      "execution_count": 12,
      "outputs": []
    },
    {
      "cell_type": "markdown",
      "source": [
        "The CORA dataset contains attributes w_x that correspond to words found in that publication. If a word occurs more than once in a publication the relevant attribute will be set to one, otherwise it will be zero. These numeric attributes have been automatically included in the StellarGraph instance G, and so we do not have to do any further conversion.\n",
        "\n"
      ],
      "metadata": {
        "id": "W9Mb7xaD52MI"
      }
    },
    {
      "cell_type": "markdown",
      "source": [
        "# 2. Creating the GCN layers"
      ],
      "metadata": {
        "id": "v8zSSuCu6HVh"
      }
    },
    {
      "cell_type": "markdown",
      "source": [
        "A machine learning model in StellarGraph consists of a pair of items:\n",
        "\n",
        "* the layers themselves, such as graph convolution, dropout and even conventional dense layers.\n",
        "* a data generator to convert the core graph structure and node features into a format that can be fed into the Keras model for training or prediction.\n",
        "\n",
        "GCN is a full-batch model and we’re doing node classification here, which means the ``FullBatchNodeGenerator` class <https://stellargraph.readthedocs.io/en/latest/api.html#stellargraph.mapper.FullBatchNodeGenerator>`__ is the appropriate generator for our task. StellarGraph has many generators in order to support all its many models and tasks.\n",
        "\n",
        "\n",
        "Specifying the method='gcn' argument to the FullBatchNodeGenerator means it will yield data appropriate for the GCN algorithm specifically, by using the normalized graph Laplacian matrix to capture the graph structure."
      ],
      "metadata": {
        "id": "quc_Ij3h6LnK"
      }
    },
    {
      "cell_type": "code",
      "source": [
        "generator = FullBatchNodeGenerator(G, method=\"gcn\")"
      ],
      "metadata": {
        "colab": {
          "base_uri": "https://localhost:8080/"
        },
        "id": "-iZwFSuk50zw",
        "outputId": "236a6d78-547c-470f-b3c0-cf90ef9ec7e0"
      },
      "execution_count": 13,
      "outputs": [
        {
          "output_type": "stream",
          "name": "stdout",
          "text": [
            "Using GCN (local pooling) filters...\n"
          ]
        }
      ]
    },
    {
      "cell_type": "markdown",
      "source": [
        "A generator just encodes the information required to produce the model inputs. Calling the ``flow` method <https://stellargraph.readthedocs.io/en/latest/api.html#stellargraph.mapper.FullBatchNodeGenerator.flow>`__ with a set of nodes and their true labels produces an object that can be used to train the model, on those nodes and labels that were specified. We created a training set above, so that’s what we’re going to use here."
      ],
      "metadata": {
        "id": "rche5E2B6vbB"
      }
    },
    {
      "cell_type": "code",
      "source": [
        "train_gen = generator.flow(train_subjects.index, train_targets)"
      ],
      "metadata": {
        "id": "SqBJR1R06ol6"
      },
      "execution_count": 14,
      "outputs": []
    },
    {
      "cell_type": "markdown",
      "source": [
        "Now we can specify our machine learning model by building a stack of layers. We can use StellarGraph’s ``GCN` class <https://stellargraph.readthedocs.io/en/latest/api.html#stellargraph.layer.gcn.GCN>`__, which packages up the creation of this stack of graph convolution and dropout layers. We can specify a few parameters to control this:"
      ],
      "metadata": {
        "id": "DFG3xjWv7MLy"
      }
    },
    {
      "cell_type": "markdown",
      "source": [
        "* *layer_sizes*: the number of hidden GCN layers and their sizes. In this case, two GCN layers with 16 units each.\n",
        "* *activations*: the activation to apply to each GCN layer’s output. In this case, RelU for both layers.\n",
        "* *dropout*: the rate of dropout for the input of each GCN layer. In this case, 50%."
      ],
      "metadata": {
        "id": "BhBZTybO7TjD"
      }
    },
    {
      "cell_type": "code",
      "source": [
        "gcn = GCN(\n",
        "    layer_sizes=[16, 16], activations=[\"relu\", \"relu\"], generator=generator, dropout=0.5\n",
        ")"
      ],
      "metadata": {
        "id": "rzMA1U-_7KX6"
      },
      "execution_count": 15,
      "outputs": []
    },
    {
      "cell_type": "markdown",
      "source": [
        "To create a Keras model we now expose the input and output tensors of the GCN model for node prediction, via the GCN.in_out_tensors method:"
      ],
      "metadata": {
        "id": "I_IpzEcPF5GT"
      }
    },
    {
      "cell_type": "code",
      "source": [
        "x_inp, x_out = gcn.in_out_tensors()\n",
        "\n",
        "x_out"
      ],
      "metadata": {
        "colab": {
          "base_uri": "https://localhost:8080/"
        },
        "id": "U-OPat4i7cJb",
        "outputId": "7629b5a9-b6e0-4ad2-fbaa-9d20ccc833ee"
      },
      "execution_count": 16,
      "outputs": [
        {
          "output_type": "execute_result",
          "data": {
            "text/plain": [
              "<KerasTensor: shape=(1, None, 16) dtype=float32 (created by layer 'gather_indices')>"
            ]
          },
          "metadata": {},
          "execution_count": 16
        }
      ]
    },
    {
      "cell_type": "markdown",
      "source": [
        "The x_out value is a TensorFlow tensor that holds a 16-dimensional vector for the nodes requested when training or predicting. The actual predictions of each node’s class/subject needs to be computed from this vector. StellarGraph is built using Keras functionality, so this can be done with a standard Keras functionality: an additional dense layer (with one unit per class) using a softmax activation. This activation function ensures that the final outputs for each input node will be a vector of “probabilities”, where every value is between 0 and 1, and the whole vector sums to 1. The predicted class is the element with the highest value."
      ],
      "metadata": {
        "id": "g6KuCQIpF-Ai"
      }
    },
    {
      "cell_type": "code",
      "source": [
        "predictions = layers.Dense(units=train_targets.shape[1], activation=\"softmax\")(x_out)"
      ],
      "metadata": {
        "id": "oSZ879dSF7i7"
      },
      "execution_count": 17,
      "outputs": []
    },
    {
      "cell_type": "markdown",
      "source": [
        "# 3. Training and evaluating"
      ],
      "metadata": {
        "id": "RhG1yjldGCgC"
      }
    },
    {
      "cell_type": "markdown",
      "source": [
        "## Training the model\n",
        "\n",
        "Now let’s create the actual Keras model with the input tensors x_inp and output tensors being the predictions predictions from the final dense layer. Our task is a categorical prediction task, so a categorical cross-entropy loss function is appropriate. Even though we’re doing graph ML with StellarGraph, we’re still working with conventional Keras prediction values, so we can use the loss function from Keras directly."
      ],
      "metadata": {
        "id": "Rp_udM87GFE7"
      }
    },
    {
      "cell_type": "code",
      "source": [
        "model = Model(inputs=x_inp, outputs=predictions)\n",
        "model.compile(\n",
        "    optimizer=optimizers.Adam(lr=0.01),\n",
        "    loss=losses.categorical_crossentropy,\n",
        "    metrics=[\"acc\"],\n",
        ")"
      ],
      "metadata": {
        "colab": {
          "base_uri": "https://localhost:8080/"
        },
        "id": "_FZtjQ6hF_-6",
        "outputId": "778eca38-0064-45c8-94e3-67fba8674d10"
      },
      "execution_count": 18,
      "outputs": [
        {
          "output_type": "stream",
          "name": "stderr",
          "text": [
            "/usr/local/lib/python3.7/dist-packages/keras/optimizers/optimizer_v2/adam.py:110: UserWarning: The `lr` argument is deprecated, use `learning_rate` instead.\n",
            "  super(Adam, self).__init__(name, **kwargs)\n"
          ]
        }
      ]
    },
    {
      "cell_type": "markdown",
      "source": [
        "As we’re training the model, we’ll want to also keep track of its generalisation performance on the validation set, which means creating another data generator, using our FullBatchNodeGenerator we created above."
      ],
      "metadata": {
        "id": "mjM2DlzaGMXz"
      }
    },
    {
      "cell_type": "code",
      "source": [
        "val_gen = generator.flow(val_subjects.index, val_targets)"
      ],
      "metadata": {
        "id": "j4x6QrISGIWq"
      },
      "execution_count": 19,
      "outputs": []
    },
    {
      "cell_type": "markdown",
      "source": [
        "We can directly use the ``EarlyStopping` functionality <https://www.tensorflow.org/api_docs/python/tf/keras/callbacks/EarlyStopping>`__ offered by Keras to stop training if the validation accuracy stops improving."
      ],
      "metadata": {
        "id": "Y91q17ZGGPTr"
      }
    },
    {
      "cell_type": "code",
      "source": [
        "from tensorflow.keras.callbacks import EarlyStopping\n",
        "\n",
        "es_callback = EarlyStopping(monitor=\"val_acc\", patience=50, restore_best_weights=True)"
      ],
      "metadata": {
        "id": "Mn-_Sw8PGN76"
      },
      "execution_count": 20,
      "outputs": []
    },
    {
      "cell_type": "markdown",
      "source": [
        "We’ve now set up our model layers, our training data, our validation data and even our training callbacks, so we can now train the model using the model’s ``fit` method <https://www.tensorflow.org/api_docs/python/tf/keras/Model#fit>`__. Like most things in this section, this is all built into Keras."
      ],
      "metadata": {
        "id": "T26FDfIHGVXb"
      }
    },
    {
      "cell_type": "code",
      "source": [
        "history = model.fit(\n",
        "    train_gen,\n",
        "    epochs=200,\n",
        "    validation_data=val_gen,\n",
        "    verbose=2,\n",
        "    shuffle=False,  # this should be False, since shuffling data means shuffling the whole graph\n",
        "    callbacks=[es_callback],\n",
        ")"
      ],
      "metadata": {
        "colab": {
          "base_uri": "https://localhost:8080/"
        },
        "id": "eUB3qrkbGS-q",
        "outputId": "30075276-442f-443a-b046-bc8d90268625"
      },
      "execution_count": 21,
      "outputs": [
        {
          "output_type": "stream",
          "name": "stdout",
          "text": [
            "Epoch 1/200\n",
            "1/1 - 2s - loss: 1.9748 - acc: 0.1071 - val_loss: 1.9289 - val_acc: 0.2360 - 2s/epoch - 2s/step\n",
            "Epoch 2/200\n",
            "1/1 - 0s - loss: 1.9169 - acc: 0.2143 - val_loss: 1.8988 - val_acc: 0.3580 - 132ms/epoch - 132ms/step\n",
            "Epoch 3/200\n",
            "1/1 - 0s - loss: 1.8728 - acc: 0.3857 - val_loss: 1.8616 - val_acc: 0.3340 - 130ms/epoch - 130ms/step\n",
            "Epoch 4/200\n",
            "1/1 - 0s - loss: 1.8157 - acc: 0.4000 - val_loss: 1.8152 - val_acc: 0.3320 - 125ms/epoch - 125ms/step\n",
            "Epoch 5/200\n",
            "1/1 - 0s - loss: 1.7626 - acc: 0.3929 - val_loss: 1.7597 - val_acc: 0.3460 - 123ms/epoch - 123ms/step\n",
            "Epoch 6/200\n",
            "1/1 - 0s - loss: 1.6980 - acc: 0.3714 - val_loss: 1.7029 - val_acc: 0.3600 - 130ms/epoch - 130ms/step\n",
            "Epoch 7/200\n",
            "1/1 - 0s - loss: 1.6203 - acc: 0.3929 - val_loss: 1.6452 - val_acc: 0.3800 - 129ms/epoch - 129ms/step\n",
            "Epoch 8/200\n",
            "1/1 - 0s - loss: 1.5195 - acc: 0.4643 - val_loss: 1.5875 - val_acc: 0.3960 - 132ms/epoch - 132ms/step\n",
            "Epoch 9/200\n",
            "1/1 - 0s - loss: 1.4638 - acc: 0.4857 - val_loss: 1.5259 - val_acc: 0.4320 - 136ms/epoch - 136ms/step\n",
            "Epoch 10/200\n",
            "1/1 - 0s - loss: 1.3714 - acc: 0.5214 - val_loss: 1.4596 - val_acc: 0.4640 - 126ms/epoch - 126ms/step\n",
            "Epoch 11/200\n",
            "1/1 - 0s - loss: 1.2669 - acc: 0.6071 - val_loss: 1.3912 - val_acc: 0.5020 - 129ms/epoch - 129ms/step\n",
            "Epoch 12/200\n",
            "1/1 - 0s - loss: 1.2031 - acc: 0.6000 - val_loss: 1.3219 - val_acc: 0.5720 - 127ms/epoch - 127ms/step\n",
            "Epoch 13/200\n",
            "1/1 - 0s - loss: 1.1091 - acc: 0.6643 - val_loss: 1.2542 - val_acc: 0.6240 - 127ms/epoch - 127ms/step\n",
            "Epoch 14/200\n",
            "1/1 - 0s - loss: 1.0224 - acc: 0.7286 - val_loss: 1.1906 - val_acc: 0.6640 - 126ms/epoch - 126ms/step\n",
            "Epoch 15/200\n",
            "1/1 - 0s - loss: 0.9830 - acc: 0.7857 - val_loss: 1.1274 - val_acc: 0.6980 - 121ms/epoch - 121ms/step\n",
            "Epoch 16/200\n",
            "1/1 - 0s - loss: 0.8671 - acc: 0.7714 - val_loss: 1.0672 - val_acc: 0.7220 - 135ms/epoch - 135ms/step\n",
            "Epoch 17/200\n",
            "1/1 - 0s - loss: 0.7771 - acc: 0.8357 - val_loss: 1.0112 - val_acc: 0.7440 - 121ms/epoch - 121ms/step\n",
            "Epoch 18/200\n",
            "1/1 - 0s - loss: 0.7683 - acc: 0.7857 - val_loss: 0.9584 - val_acc: 0.7460 - 124ms/epoch - 124ms/step\n",
            "Epoch 19/200\n",
            "1/1 - 0s - loss: 0.6901 - acc: 0.8357 - val_loss: 0.9091 - val_acc: 0.7620 - 131ms/epoch - 131ms/step\n",
            "Epoch 20/200\n",
            "1/1 - 0s - loss: 0.6570 - acc: 0.8286 - val_loss: 0.8646 - val_acc: 0.7580 - 125ms/epoch - 125ms/step\n",
            "Epoch 21/200\n",
            "1/1 - 0s - loss: 0.5149 - acc: 0.8643 - val_loss: 0.8274 - val_acc: 0.7640 - 130ms/epoch - 130ms/step\n",
            "Epoch 22/200\n",
            "1/1 - 0s - loss: 0.5524 - acc: 0.8429 - val_loss: 0.7975 - val_acc: 0.7680 - 125ms/epoch - 125ms/step\n",
            "Epoch 23/200\n",
            "1/1 - 0s - loss: 0.4360 - acc: 0.8857 - val_loss: 0.7750 - val_acc: 0.7680 - 137ms/epoch - 137ms/step\n",
            "Epoch 24/200\n",
            "1/1 - 0s - loss: 0.4415 - acc: 0.8643 - val_loss: 0.7582 - val_acc: 0.7660 - 132ms/epoch - 132ms/step\n",
            "Epoch 25/200\n",
            "1/1 - 0s - loss: 0.4117 - acc: 0.9000 - val_loss: 0.7434 - val_acc: 0.7680 - 130ms/epoch - 130ms/step\n",
            "Epoch 26/200\n",
            "1/1 - 0s - loss: 0.3842 - acc: 0.8786 - val_loss: 0.7309 - val_acc: 0.7680 - 125ms/epoch - 125ms/step\n",
            "Epoch 27/200\n",
            "1/1 - 0s - loss: 0.3132 - acc: 0.9286 - val_loss: 0.7225 - val_acc: 0.7760 - 125ms/epoch - 125ms/step\n",
            "Epoch 28/200\n",
            "1/1 - 0s - loss: 0.2973 - acc: 0.9429 - val_loss: 0.7161 - val_acc: 0.7840 - 127ms/epoch - 127ms/step\n",
            "Epoch 29/200\n",
            "1/1 - 0s - loss: 0.2924 - acc: 0.9286 - val_loss: 0.7122 - val_acc: 0.7860 - 126ms/epoch - 126ms/step\n",
            "Epoch 30/200\n",
            "1/1 - 0s - loss: 0.2931 - acc: 0.9429 - val_loss: 0.7054 - val_acc: 0.7900 - 130ms/epoch - 130ms/step\n",
            "Epoch 31/200\n",
            "1/1 - 0s - loss: 0.3080 - acc: 0.9214 - val_loss: 0.7055 - val_acc: 0.7900 - 135ms/epoch - 135ms/step\n",
            "Epoch 32/200\n",
            "1/1 - 0s - loss: 0.2254 - acc: 0.9500 - val_loss: 0.7119 - val_acc: 0.7900 - 127ms/epoch - 127ms/step\n",
            "Epoch 33/200\n",
            "1/1 - 0s - loss: 0.2309 - acc: 0.9071 - val_loss: 0.7191 - val_acc: 0.7960 - 129ms/epoch - 129ms/step\n",
            "Epoch 34/200\n",
            "1/1 - 0s - loss: 0.1917 - acc: 0.9357 - val_loss: 0.7286 - val_acc: 0.7920 - 130ms/epoch - 130ms/step\n",
            "Epoch 35/200\n",
            "1/1 - 0s - loss: 0.1783 - acc: 0.9714 - val_loss: 0.7385 - val_acc: 0.7860 - 121ms/epoch - 121ms/step\n",
            "Epoch 36/200\n",
            "1/1 - 0s - loss: 0.1699 - acc: 0.9643 - val_loss: 0.7515 - val_acc: 0.7800 - 127ms/epoch - 127ms/step\n",
            "Epoch 37/200\n",
            "1/1 - 0s - loss: 0.1775 - acc: 0.9500 - val_loss: 0.7607 - val_acc: 0.7800 - 137ms/epoch - 137ms/step\n",
            "Epoch 38/200\n",
            "1/1 - 0s - loss: 0.1926 - acc: 0.9286 - val_loss: 0.7675 - val_acc: 0.7760 - 123ms/epoch - 123ms/step\n",
            "Epoch 39/200\n",
            "1/1 - 0s - loss: 0.1658 - acc: 0.9500 - val_loss: 0.7655 - val_acc: 0.7800 - 129ms/epoch - 129ms/step\n",
            "Epoch 40/200\n",
            "1/1 - 0s - loss: 0.1348 - acc: 0.9857 - val_loss: 0.7683 - val_acc: 0.7720 - 125ms/epoch - 125ms/step\n",
            "Epoch 41/200\n",
            "1/1 - 0s - loss: 0.1453 - acc: 0.9643 - val_loss: 0.7755 - val_acc: 0.7720 - 130ms/epoch - 130ms/step\n",
            "Epoch 42/200\n",
            "1/1 - 0s - loss: 0.1265 - acc: 0.9714 - val_loss: 0.7875 - val_acc: 0.7720 - 124ms/epoch - 124ms/step\n",
            "Epoch 43/200\n",
            "1/1 - 0s - loss: 0.1521 - acc: 0.9571 - val_loss: 0.8043 - val_acc: 0.7680 - 133ms/epoch - 133ms/step\n",
            "Epoch 44/200\n",
            "1/1 - 0s - loss: 0.1439 - acc: 0.9500 - val_loss: 0.8189 - val_acc: 0.7640 - 124ms/epoch - 124ms/step\n",
            "Epoch 45/200\n",
            "1/1 - 0s - loss: 0.1040 - acc: 0.9786 - val_loss: 0.8242 - val_acc: 0.7740 - 133ms/epoch - 133ms/step\n",
            "Epoch 46/200\n",
            "1/1 - 0s - loss: 0.1287 - acc: 0.9786 - val_loss: 0.8274 - val_acc: 0.7760 - 130ms/epoch - 130ms/step\n",
            "Epoch 47/200\n",
            "1/1 - 0s - loss: 0.1552 - acc: 0.9429 - val_loss: 0.8309 - val_acc: 0.7820 - 128ms/epoch - 128ms/step\n",
            "Epoch 48/200\n",
            "1/1 - 0s - loss: 0.1202 - acc: 0.9643 - val_loss: 0.8419 - val_acc: 0.7720 - 121ms/epoch - 121ms/step\n",
            "Epoch 49/200\n",
            "1/1 - 0s - loss: 0.0863 - acc: 0.9643 - val_loss: 0.8589 - val_acc: 0.7700 - 120ms/epoch - 120ms/step\n",
            "Epoch 50/200\n",
            "1/1 - 0s - loss: 0.1137 - acc: 0.9643 - val_loss: 0.8771 - val_acc: 0.7740 - 131ms/epoch - 131ms/step\n",
            "Epoch 51/200\n",
            "1/1 - 0s - loss: 0.0822 - acc: 0.9786 - val_loss: 0.8939 - val_acc: 0.7640 - 128ms/epoch - 128ms/step\n",
            "Epoch 52/200\n",
            "1/1 - 0s - loss: 0.1141 - acc: 0.9571 - val_loss: 0.8951 - val_acc: 0.7660 - 121ms/epoch - 121ms/step\n",
            "Epoch 53/200\n",
            "1/1 - 0s - loss: 0.0710 - acc: 0.9786 - val_loss: 0.8888 - val_acc: 0.7680 - 124ms/epoch - 124ms/step\n",
            "Epoch 54/200\n",
            "1/1 - 0s - loss: 0.1287 - acc: 0.9643 - val_loss: 0.8882 - val_acc: 0.7660 - 129ms/epoch - 129ms/step\n",
            "Epoch 55/200\n",
            "1/1 - 0s - loss: 0.0724 - acc: 0.9857 - val_loss: 0.8905 - val_acc: 0.7740 - 126ms/epoch - 126ms/step\n",
            "Epoch 56/200\n",
            "1/1 - 0s - loss: 0.1119 - acc: 0.9571 - val_loss: 0.8931 - val_acc: 0.7720 - 124ms/epoch - 124ms/step\n",
            "Epoch 57/200\n",
            "1/1 - 0s - loss: 0.0712 - acc: 0.9857 - val_loss: 0.8945 - val_acc: 0.7680 - 142ms/epoch - 142ms/step\n",
            "Epoch 58/200\n",
            "1/1 - 0s - loss: 0.0859 - acc: 0.9857 - val_loss: 0.8902 - val_acc: 0.7660 - 127ms/epoch - 127ms/step\n",
            "Epoch 59/200\n",
            "1/1 - 0s - loss: 0.0572 - acc: 0.9786 - val_loss: 0.8908 - val_acc: 0.7640 - 128ms/epoch - 128ms/step\n",
            "Epoch 60/200\n",
            "1/1 - 0s - loss: 0.0871 - acc: 0.9714 - val_loss: 0.8917 - val_acc: 0.7720 - 144ms/epoch - 144ms/step\n",
            "Epoch 61/200\n",
            "1/1 - 0s - loss: 0.0648 - acc: 0.9857 - val_loss: 0.8968 - val_acc: 0.7720 - 131ms/epoch - 131ms/step\n",
            "Epoch 62/200\n",
            "1/1 - 0s - loss: 0.0954 - acc: 0.9929 - val_loss: 0.9006 - val_acc: 0.7740 - 161ms/epoch - 161ms/step\n",
            "Epoch 63/200\n",
            "1/1 - 0s - loss: 0.0639 - acc: 0.9714 - val_loss: 0.9038 - val_acc: 0.7700 - 222ms/epoch - 222ms/step\n",
            "Epoch 64/200\n",
            "1/1 - 0s - loss: 0.0649 - acc: 0.9857 - val_loss: 0.9061 - val_acc: 0.7720 - 206ms/epoch - 206ms/step\n",
            "Epoch 65/200\n",
            "1/1 - 0s - loss: 0.0752 - acc: 0.9714 - val_loss: 0.9148 - val_acc: 0.7680 - 207ms/epoch - 207ms/step\n",
            "Epoch 66/200\n",
            "1/1 - 0s - loss: 0.0589 - acc: 0.9929 - val_loss: 0.9267 - val_acc: 0.7720 - 220ms/epoch - 220ms/step\n",
            "Epoch 67/200\n",
            "1/1 - 0s - loss: 0.0679 - acc: 0.9857 - val_loss: 0.9418 - val_acc: 0.7660 - 220ms/epoch - 220ms/step\n",
            "Epoch 68/200\n",
            "1/1 - 0s - loss: 0.0535 - acc: 0.9929 - val_loss: 0.9596 - val_acc: 0.7580 - 201ms/epoch - 201ms/step\n",
            "Epoch 69/200\n",
            "1/1 - 0s - loss: 0.0537 - acc: 0.9857 - val_loss: 0.9804 - val_acc: 0.7540 - 223ms/epoch - 223ms/step\n",
            "Epoch 70/200\n",
            "1/1 - 0s - loss: 0.0675 - acc: 0.9714 - val_loss: 0.9891 - val_acc: 0.7540 - 211ms/epoch - 211ms/step\n",
            "Epoch 71/200\n",
            "1/1 - 0s - loss: 0.0834 - acc: 0.9714 - val_loss: 0.9978 - val_acc: 0.7520 - 213ms/epoch - 213ms/step\n",
            "Epoch 72/200\n",
            "1/1 - 0s - loss: 0.0976 - acc: 0.9643 - val_loss: 0.9979 - val_acc: 0.7580 - 205ms/epoch - 205ms/step\n",
            "Epoch 73/200\n",
            "1/1 - 0s - loss: 0.0763 - acc: 0.9786 - val_loss: 0.9895 - val_acc: 0.7580 - 132ms/epoch - 132ms/step\n",
            "Epoch 74/200\n",
            "1/1 - 0s - loss: 0.0297 - acc: 0.9929 - val_loss: 0.9826 - val_acc: 0.7580 - 125ms/epoch - 125ms/step\n",
            "Epoch 75/200\n",
            "1/1 - 0s - loss: 0.0229 - acc: 1.0000 - val_loss: 0.9762 - val_acc: 0.7660 - 127ms/epoch - 127ms/step\n",
            "Epoch 76/200\n",
            "1/1 - 0s - loss: 0.0843 - acc: 0.9714 - val_loss: 0.9720 - val_acc: 0.7680 - 136ms/epoch - 136ms/step\n",
            "Epoch 77/200\n",
            "1/1 - 0s - loss: 0.0333 - acc: 0.9857 - val_loss: 0.9681 - val_acc: 0.7700 - 127ms/epoch - 127ms/step\n",
            "Epoch 78/200\n",
            "1/1 - 0s - loss: 0.0250 - acc: 1.0000 - val_loss: 0.9638 - val_acc: 0.7720 - 149ms/epoch - 149ms/step\n",
            "Epoch 79/200\n",
            "1/1 - 0s - loss: 0.0483 - acc: 0.9857 - val_loss: 0.9620 - val_acc: 0.7740 - 131ms/epoch - 131ms/step\n",
            "Epoch 80/200\n",
            "1/1 - 0s - loss: 0.0521 - acc: 0.9857 - val_loss: 0.9604 - val_acc: 0.7740 - 127ms/epoch - 127ms/step\n",
            "Epoch 81/200\n",
            "1/1 - 0s - loss: 0.0403 - acc: 0.9929 - val_loss: 0.9607 - val_acc: 0.7740 - 126ms/epoch - 126ms/step\n",
            "Epoch 82/200\n",
            "1/1 - 0s - loss: 0.0187 - acc: 1.0000 - val_loss: 0.9636 - val_acc: 0.7720 - 125ms/epoch - 125ms/step\n",
            "Epoch 83/200\n",
            "1/1 - 0s - loss: 0.0410 - acc: 0.9857 - val_loss: 0.9699 - val_acc: 0.7720 - 132ms/epoch - 132ms/step\n"
          ]
        }
      ]
    },
    {
      "cell_type": "markdown",
      "source": [
        "Once we’ve trained the model, we can view the behaviour loss function and any other metrics using the ``plot_history` function <https://stellargraph.readthedocs.io/en/stable/api.html#stellargraph.utils.plot_history>`__. In this case, we can see the loss and accuracy on both the training and validation sets."
      ],
      "metadata": {
        "id": "d6H2YHxaGcB0"
      }
    },
    {
      "cell_type": "code",
      "source": [
        "sg.utils.plot_history(history)"
      ],
      "metadata": {
        "colab": {
          "base_uri": "https://localhost:8080/",
          "height": 585
        },
        "id": "FgTwAcKwGXQK",
        "outputId": "7727a8d0-9766-4354-fdbd-06446ffdf0d3"
      },
      "execution_count": 22,
      "outputs": [
        {
          "output_type": "display_data",
          "data": {
            "text/plain": [
              "<Figure size 504x576 with 2 Axes>"
            ],
            "image/png": "[encoded data removed]"
          },
          "metadata": {
            "needs_background": "light"
          }
        }
      ]
    },
    {
      "cell_type": "markdown",
      "source": [
        "As the final part of our evaluation, let’s check the model against the test set. We again create the data required for this using the flow method on our FullBatchNodeGenerator from above, and can use the model’s ``evaluate` method <https://www.tensorflow.org/api_docs/python/tf/keras/Model#evaluate>`__ to compute the metric values for the trained model.\n",
        "\n",
        "As expected, the model performs similarly on the validation set during training and on the test set here."
      ],
      "metadata": {
        "id": "V1ErfIpEG2U7"
      }
    },
    {
      "cell_type": "code",
      "source": [
        "test_gen = generator.flow(test_subjects.index, test_targets)"
      ],
      "metadata": {
        "id": "P-Ls0zvEGxwc"
      },
      "execution_count": 23,
      "outputs": []
    },
    {
      "cell_type": "code",
      "source": [
        "test_metrics = model.evaluate(test_gen)\n",
        "print(\"\\nTest Set Metrics:\")\n",
        "for name, val in zip(model.metrics_names, test_metrics):\n",
        "    print(\"\\t{}: {:0.4f}\".format(name, val))"
      ],
      "metadata": {
        "colab": {
          "base_uri": "https://localhost:8080/"
        },
        "id": "-yzMRjMSHA7M",
        "outputId": "256a7361-c44b-4390-be82-7fb5dfe9b120"
      },
      "execution_count": 24,
      "outputs": [
        {
          "output_type": "stream",
          "name": "stdout",
          "text": [
            "1/1 [==============================] - 0s 52ms/step - loss: 0.6845 - acc: 0.7955\n",
            "\n",
            "Test Set Metrics:\n",
            "\tloss: 0.6845\n",
            "\tacc: 0.7955\n"
          ]
        }
      ]
    },
    {
      "cell_type": "markdown",
      "source": [
        "### Making predictions with the model"
      ],
      "metadata": {
        "id": "-_LSZ7L-HHs0"
      }
    },
    {
      "cell_type": "markdown",
      "source": [
        "Now let’s get the predictions for all nodes. You’re probably getting used to it by now, but we use our FullBatchNodeGenerator to create the input required and then use one of the model’s methods: ``predict` <https://www.tensorflow.org/api_docs/python/tf/keras/Model#predict>`__. This time we don’t provide the labels to flow, and instead just the nodes, because we’re trying to predict these classes without knowing them."
      ],
      "metadata": {
        "id": "PSKA57WuHJW9"
      }
    },
    {
      "cell_type": "code",
      "source": [
        "all_nodes = node_subjects.index\n",
        "all_gen = generator.flow(all_nodes)\n",
        "all_predictions = model.predict(all_gen)"
      ],
      "metadata": {
        "colab": {
          "base_uri": "https://localhost:8080/"
        },
        "id": "8fmhcE66HHil",
        "outputId": "ac1ef13f-f80f-463e-9894-fd8630e89706"
      },
      "execution_count": 26,
      "outputs": [
        {
          "output_type": "stream",
          "name": "stdout",
          "text": [
            "1/1 [==============================] - 0s 325ms/step\n"
          ]
        }
      ]
    },
    {
      "cell_type": "markdown",
      "source": [
        "These predictions will be the output of the softmax layer, so to get final categories we’ll use the inverse_transform method of our target attribute specifcation to turn these values back to the original categories.\n",
        "\n"
      ],
      "metadata": {
        "id": "sO4QFRPZHNK2"
      }
    },
    {
      "cell_type": "markdown",
      "source": [
        "Note that for full-batch methods the batch size is 1 and the predictions have shape (1,Nnodes,Nclasses) so we we remove the batch dimension to obtain predictions of shape (Nnodes,Nclasses) using the NumPy squeeze method."
      ],
      "metadata": {
        "id": "GlmU6rTCHQes"
      }
    },
    {
      "cell_type": "code",
      "source": [
        "node_predictions = target_encoding.inverse_transform(all_predictions.squeeze())"
      ],
      "metadata": {
        "id": "FS5z3pDyHFgM"
      },
      "execution_count": 27,
      "outputs": []
    },
    {
      "cell_type": "markdown",
      "source": [
        "Let’s have a look at a few predictions after training the model:"
      ],
      "metadata": {
        "id": "6iIuexReHV7D"
      }
    },
    {
      "cell_type": "code",
      "source": [
        "df = pd.DataFrame({\"Predicted\": node_predictions, \"True\": node_subjects})\n",
        "df.head(20)"
      ],
      "metadata": {
        "colab": {
          "base_uri": "https://localhost:8080/",
          "height": 676
        },
        "id": "77FZCAaEHCqs",
        "outputId": "73a9cef1-f13b-42b8-a85a-85c42eac37c4"
      },
      "execution_count": 28,
      "outputs": [
        {
          "output_type": "execute_result",
          "data": {
            "text/plain": [
              "                      Predicted                    True\n",
              "31336           Neural_Networks         Neural_Networks\n",
              "1061127                  Theory           Rule_Learning\n",
              "1106406  Reinforcement_Learning  Reinforcement_Learning\n",
              "13195    Reinforcement_Learning  Reinforcement_Learning\n",
              "37879     Probabilistic_Methods   Probabilistic_Methods\n",
              "1126012   Probabilistic_Methods   Probabilistic_Methods\n",
              "1107140              Case_Based                  Theory\n",
              "1102850         Neural_Networks         Neural_Networks\n",
              "31349           Neural_Networks         Neural_Networks\n",
              "1106418                  Theory                  Theory\n",
              "1123188         Neural_Networks         Neural_Networks\n",
              "1128990              Case_Based      Genetic_Algorithms\n",
              "109323    Probabilistic_Methods   Probabilistic_Methods\n",
              "217139               Case_Based              Case_Based\n",
              "31353           Neural_Networks         Neural_Networks\n",
              "32083           Neural_Networks         Neural_Networks\n",
              "1126029  Reinforcement_Learning  Reinforcement_Learning\n",
              "1118017         Neural_Networks         Neural_Networks\n",
              "49482           Neural_Networks         Neural_Networks\n",
              "753265          Neural_Networks         Neural_Networks"
            ],
            "text/html": [
              "\n",
              "  <div id=\"df-3e049650-613f-452e-b341-6846c39df55f\">\n",
              "    <div class=\"colab-df-container\">\n",
              "      <div>\n",
              "<style scoped>\n",
              "    .dataframe tbody tr th:only-of-type {\n",
              "        vertical-align: middle;\n",
              "    }\n",
              "\n",
              "    .dataframe tbody tr th {\n",
              "        vertical-align: top;\n",
              "    }\n",
              "\n",
              "    .dataframe thead th {\n",
              "        text-align: right;\n",
              "    }\n",
              "</style>\n",
              "<table border=\"1\" class=\"dataframe\">\n",
              "  <thead>\n",
              "    <tr style=\"text-align: right;\">\n",
              "      <th></th>\n",
              "      <th>Predicted</th>\n",
              "      <th>True</th>\n",
              "    </tr>\n",
              "  </thead>\n",
              "  <tbody>\n",
              "    <tr>\n",
              "      <th>31336</th>\n",
              "      <td>Neural_Networks</td>\n",
              "      <td>Neural_Networks</td>\n",
              "    </tr>\n",
              "    <tr>\n",
              "      <th>1061127</th>\n",
              "      <td>Theory</td>\n",
              "      <td>Rule_Learning</td>\n",
              "    </tr>\n",
              "    <tr>\n",
              "      <th>1106406</th>\n",
              "      <td>Reinforcement_Learning</td>\n",
              "      <td>Reinforcement_Learning</td>\n",
              "    </tr>\n",
              "    <tr>\n",
              "      <th>13195</th>\n",
              "      <td>Reinforcement_Learning</td>\n",
              "      <td>Reinforcement_Learning</td>\n",
              "    </tr>\n",
              "    <tr>\n",
              "      <th>37879</th>\n",
              "      <td>Probabilistic_Methods</td>\n",
              "      <td>Probabilistic_Methods</td>\n",
              "    </tr>\n",
              "    <tr>\n",
              "      <th>1126012</th>\n",
              "      <td>Probabilistic_Methods</td>\n",
              "      <td>Probabilistic_Methods</td>\n",
              "    </tr>\n",
              "    <tr>\n",
              "      <th>1107140</th>\n",
              "      <td>Case_Based</td>\n",
              "      <td>Theory</td>\n",
              "    </tr>\n",
              "    <tr>\n",
              "      <th>1102850</th>\n",
              "      <td>Neural_Networks</td>\n",
              "      <td>Neural_Networks</td>\n",
              "    </tr>\n",
              "    <tr>\n",
              "      <th>31349</th>\n",
              "      <td>Neural_Networks</td>\n",
              "      <td>Neural_Networks</td>\n",
              "    </tr>\n",
              "    <tr>\n",
              "      <th>1106418</th>\n",
              "      <td>Theory</td>\n",
              "      <td>Theory</td>\n",
              "    </tr>\n",
              "    <tr>\n",
              "      <th>1123188</th>\n",
              "      <td>Neural_Networks</td>\n",
              "      <td>Neural_Networks</td>\n",
              "    </tr>\n",
              "    <tr>\n",
              "      <th>1128990</th>\n",
              "      <td>Case_Based</td>\n",
              "      <td>Genetic_Algorithms</td>\n",
              "    </tr>\n",
              "    <tr>\n",
              "      <th>109323</th>\n",
              "      <td>Probabilistic_Methods</td>\n",
              "      <td>Probabilistic_Methods</td>\n",
              "    </tr>\n",
              "    <tr>\n",
              "      <th>217139</th>\n",
              "      <td>Case_Based</td>\n",
              "      <td>Case_Based</td>\n",
              "    </tr>\n",
              "    <tr>\n",
              "      <th>31353</th>\n",
              "      <td>Neural_Networks</td>\n",
              "      <td>Neural_Networks</td>\n",
              "    </tr>\n",
              "    <tr>\n",
              "      <th>32083</th>\n",
              "      <td>Neural_Networks</td>\n",
              "      <td>Neural_Networks</td>\n",
              "    </tr>\n",
              "    <tr>\n",
              "      <th>1126029</th>\n",
              "      <td>Reinforcement_Learning</td>\n",
              "      <td>Reinforcement_Learning</td>\n",
              "    </tr>\n",
              "    <tr>\n",
              "      <th>1118017</th>\n",
              "      <td>Neural_Networks</td>\n",
              "      <td>Neural_Networks</td>\n",
              "    </tr>\n",
              "    <tr>\n",
              "      <th>49482</th>\n",
              "      <td>Neural_Networks</td>\n",
              "      <td>Neural_Networks</td>\n",
              "    </tr>\n",
              "    <tr>\n",
              "      <th>753265</th>\n",
              "      <td>Neural_Networks</td>\n",
              "      <td>Neural_Networks</td>\n",
              "    </tr>\n",
              "  </tbody>\n",
              "</table>\n",
              "</div>\n",
              "      <button class=\"colab-df-convert\" onclick=\"convertToInteractive('df-3e049650-613f-452e-b341-6846c39df55f')\"\n",
              "              title=\"Convert this dataframe to an interactive table.\"\n",
              "              style=\"display:none;\">\n",
              "        \n",
              "  <svg xmlns=\"http://www.w3.org/2000/svg\" height=\"24px\"viewBox=\"0 0 24 24\"\n",
              "       width=\"24px\">\n",
              "    <path d=\"M0 0h24v24H0V0z\" fill=\"none\"/>\n",
              "    <path d=\"M18.56 5.44l.94 2.06.94-2.06 2.06-.94-2.06-.94-.94-2.06-.94 2.06-2.06.94zm-11 1L8.5 8.5l.94-2.06 2.06-.94-2.06-.94L8.5 2.5l-.94 2.06-2.06.94zm10 10l.94 2.06.94-2.06 2.06-.94-2.06-.94-.94-2.06-.94 2.06-2.06.94z\"/><path d=\"M17.41 7.96l-1.37-1.37c-.4-.4-.92-.59-1.43-.59-.52 0-1.04.2-1.43.59L10.3 9.45l-7.72 7.72c-.78.78-.78 2.05 0 2.83L4 21.41c.39.39.9.59 1.41.59.51 0 1.02-.2 1.41-.59l7.78-7.78 2.81-2.81c.8-.78.8-2.07 0-2.86zM5.41 20L4 18.59l7.72-7.72 1.47 1.35L5.41 20z\"/>\n",
              "  </svg>\n",
              "      </button>\n",
              "      \n",
              "  <style>\n",
              "    .colab-df-container {\n",
              "      display:flex;\n",
              "      flex-wrap:wrap;\n",
              "      gap: 12px;\n",
              "    }\n",
              "\n",
              "    .colab-df-convert {\n",
              "      background-color: #E8F0FE;\n",
              "      border: none;\n",
              "      border-radius: 50%;\n",
              "      cursor: pointer;\n",
              "      display: none;\n",
              "      fill: #1967D2;\n",
              "      height: 32px;\n",
              "      padding: 0 0 0 0;\n",
              "      width: 32px;\n",
              "    }\n",
              "\n",
              "    .colab-df-convert:hover {\n",
              "      background-color: #E2EBFA;\n",
              "      box-shadow: 0px 1px 2px rgba(60, 64, 67, 0.3), 0px 1px 3px 1px rgba(60, 64, 67, 0.15);\n",
              "      fill: #174EA6;\n",
              "    }\n",
              "\n",
              "    [theme=dark] .colab-df-convert {\n",
              "      background-color: #3B4455;\n",
              "      fill: #D2E3FC;\n",
              "    }\n",
              "\n",
              "    [theme=dark] .colab-df-convert:hover {\n",
              "      background-color: #434B5C;\n",
              "      box-shadow: 0px 1px 3px 1px rgba(0, 0, 0, 0.15);\n",
              "      filter: drop-shadow(0px 1px 2px rgba(0, 0, 0, 0.3));\n",
              "      fill: #FFFFFF;\n",
              "    }\n",
              "  </style>\n",
              "\n",
              "      <script>\n",
              "        const buttonEl =\n",
              "          document.querySelector('#df-3e049650-613f-452e-b341-6846c39df55f button.colab-df-convert');\n",
              "        buttonEl.style.display =\n",
              "          google.colab.kernel.accessAllowed ? 'block' : 'none';\n",
              "\n",
              "        async function convertToInteractive(key) {\n",
              "          const element = document.querySelector('#df-3e049650-613f-452e-b341-6846c39df55f');\n",
              "          const dataTable =\n",
              "            await google.colab.kernel.invokeFunction('convertToInteractive',\n",
              "                                                     [key], {});\n",
              "          if (!dataTable) return;\n",
              "\n",
              "          const docLinkHtml = 'Like what you see? Visit the ' +\n",
              "            '<a target=\"_blank\" href=https://colab.research.google.com/notebooks/data_table.ipynb>data table notebook</a>'\n",
              "            + ' to learn more about interactive tables.';\n",
              "          element.innerHTML = '';\n",
              "          dataTable['output_type'] = 'display_data';\n",
              "          await google.colab.output.renderOutput(dataTable, element);\n",
              "          const docLink = document.createElement('div');\n",
              "          docLink.innerHTML = docLinkHtml;\n",
              "          element.appendChild(docLink);\n",
              "        }\n",
              "      </script>\n",
              "    </div>\n",
              "  </div>\n",
              "  "
            ]
          },
          "metadata": {},
          "execution_count": 28
        }
      ]
    },
    {
      "cell_type": "markdown",
      "source": [
        "Node embeddings"
      ],
      "metadata": {
        "id": "0lHl_zFJHbWj"
      }
    },
    {
      "cell_type": "markdown",
      "source": [
        "In addition to just predicting the node class, it can be useful to get a more detailed picture of what information the model has learnt about the nodes and their neighbourhoods. In this case, this means an embedding of the node (also called a “representation”) into a latent vector space that captures that information, and it comes in the form of either a look-up table mapping node to a vector of numbers, or a neural network that produces those vectors. For GCN, we’re going to be using the second option, using the last graph convolution layer of the GCN model (called x_out above), before we applied the prediction layer.\n",
        "\n",
        "We can visualise these embeddings as points on a plot, colored by their true subject labels. If the model has learned useful information about the nodes based on their class, we expect to see nice clusters of papers in the node embedding space, with papers of the same subject belonging to the same cluster.\n",
        "\n",
        "To create a model that computes node embeddings, we use the same input tensors (x_inp) as the prediction model above, and just swap the output tensor to the GCN one (x_out) instead of the prediction layer. These tensors are connected to the same layers and weights that we trained when training the predictions above, and so we’re only using this model to compute/”predict” the node embedding vectors. Similar to doing predictions for every node, we will compute embeddings for every node using the all_gen data.\n",
        "\n"
      ],
      "metadata": {
        "id": "nlYIOk6JHeoO"
      }
    },
    {
      "cell_type": "code",
      "source": [
        "embedding_model = Model(inputs=x_inp, outputs=x_out)"
      ],
      "metadata": {
        "id": "4gWx5pehHYB7"
      },
      "execution_count": 29,
      "outputs": []
    },
    {
      "cell_type": "code",
      "source": [
        "emb = embedding_model.predict(all_gen)\n",
        "emb.shape"
      ],
      "metadata": {
        "colab": {
          "base_uri": "https://localhost:8080/"
        },
        "id": "NS0BrNXBHlhY",
        "outputId": "e0c93650-718c-4dca-dc64-182cae969780"
      },
      "execution_count": 30,
      "outputs": [
        {
          "output_type": "stream",
          "name": "stdout",
          "text": [
            "1/1 [==============================] - 0s 201ms/step\n"
          ]
        },
        {
          "output_type": "execute_result",
          "data": {
            "text/plain": [
              "(1, 2708, 16)"
            ]
          },
          "metadata": {},
          "execution_count": 30
        }
      ]
    },
    {
      "cell_type": "markdown",
      "source": [
        "The last GCN layer had output dimension 16, meaning each embedding consists of 16 numbers. Plotting this directly would require a 16 dimensional plot, which is hard for humans to visualise. Instead, we can first project these vectors down to just 2 numbers, making vectors of dimension 2 that can be plotted on a normal 2D scatter plot.\n",
        "\n",
        "There are many tools for this dimensionality reduction task, many of which are offered by scikit-learn. Two of the more common ones are principal component analysis (PCA) (which is linear) and t-distributed Stochastic Neighbor Embedding (t-SNE or TSNE) (non-linear). t-SNE is slower but typically gives nicer results for plotting.\n",
        "\n"
      ],
      "metadata": {
        "id": "BOR9T_-CHoj5"
      }
    },
    {
      "cell_type": "code",
      "source": [
        "from sklearn.decomposition import PCA\n",
        "from sklearn.manifold import TSNE\n",
        "\n",
        "transform = TSNE  # or PCA"
      ],
      "metadata": {
        "id": "fMlwVTGAHmv4"
      },
      "execution_count": 31,
      "outputs": []
    },
    {
      "cell_type": "markdown",
      "source": [
        "Note that the embeddings from the GCN model have a batch dimension of 1 so we squeeze this to get a matrix of Nnodes×Nemb."
      ],
      "metadata": {
        "id": "Pokpe2tVHuRo"
      }
    },
    {
      "cell_type": "code",
      "source": [
        "X = emb.squeeze(0)\n",
        "X.shape"
      ],
      "metadata": {
        "colab": {
          "base_uri": "https://localhost:8080/"
        },
        "id": "qb72FfpKHstI",
        "outputId": "6a3373b8-6128-4033-e8ed-f86ab0c85612"
      },
      "execution_count": 32,
      "outputs": [
        {
          "output_type": "execute_result",
          "data": {
            "text/plain": [
              "(2708, 16)"
            ]
          },
          "metadata": {},
          "execution_count": 32
        }
      ]
    },
    {
      "cell_type": "markdown",
      "source": [
        "We’ve thus prepared our high-dimension embeddings and chosen our dimension-reduction transform, so we now compute the reduced vectors, as two columns of the new values."
      ],
      "metadata": {
        "id": "aYtka6HPHxjQ"
      }
    },
    {
      "cell_type": "code",
      "source": [
        "trans = transform(n_components=2)\n",
        "X_reduced = trans.fit_transform(X)\n",
        "X_reduced.shape"
      ],
      "metadata": {
        "colab": {
          "base_uri": "https://localhost:8080/"
        },
        "id": "OlbrNaHrHwOo",
        "outputId": "785e749d-1104-4d96-a485-f0587f96e0a9"
      },
      "execution_count": 33,
      "outputs": [
        {
          "output_type": "stream",
          "name": "stderr",
          "text": [
            "/usr/local/lib/python3.7/dist-packages/sklearn/manifold/_t_sne.py:783: FutureWarning: The default initialization in TSNE will change from 'random' to 'pca' in 1.2.\n",
            "  FutureWarning,\n",
            "/usr/local/lib/python3.7/dist-packages/sklearn/manifold/_t_sne.py:793: FutureWarning: The default learning rate in TSNE will change from 200.0 to 'auto' in 1.2.\n",
            "  FutureWarning,\n"
          ]
        },
        {
          "output_type": "execute_result",
          "data": {
            "text/plain": [
              "(2708, 2)"
            ]
          },
          "metadata": {},
          "execution_count": 33
        }
      ]
    },
    {
      "cell_type": "markdown",
      "source": [
        "The X_reduced values contains a pair of numbers for each node, in the same order as the node_subjects Series of ground-truth labels (because that’s how all_gen was created). This is enough to do a scatter plot of the nodes, with colors. We can let matplotlib compute the colors by mapping the subjects to integers 0, 1, …, 6, using [Pandas’s support for categorical data](https://pandas.pydata.org/pandas-docs/stable/user_guide/categorical.html)."
      ],
      "metadata": {
        "id": "xweMzh03H2EV"
      }
    },
    {
      "cell_type": "markdown",
      "source": [
        "Qualitatively, the plot shows good clustering, where nodes of a single colour are mostly grouped together."
      ],
      "metadata": {
        "id": "swQRTN_lH_8P"
      }
    },
    {
      "cell_type": "code",
      "source": [
        "fig, ax = plt.subplots(figsize=(7, 7))\n",
        "ax.scatter(\n",
        "    X_reduced[:, 0],\n",
        "    X_reduced[:, 1],\n",
        "    c=node_subjects.astype(\"category\").cat.codes,\n",
        "    cmap=\"jet\",\n",
        "    alpha=0.7,\n",
        ")\n",
        "ax.set(\n",
        "    aspect=\"equal\",\n",
        "    xlabel=\"$X_1$\",\n",
        "    ylabel=\"$X_2$\",\n",
        "    title=f\"{transform.__name__} visualization of GCN embeddings for cora dataset\",\n",
        ")"
      ],
      "metadata": {
        "colab": {
          "base_uri": "https://localhost:8080/",
          "height": 424
        },
        "id": "VDqAeud3Hzp9",
        "outputId": "b853acf0-edb2-4414-cf5c-700312388f0b"
      },
      "execution_count": 34,
      "outputs": [
        {
          "output_type": "execute_result",
          "data": {
            "text/plain": [
              "[Text(0, 0.5, '$X_2$'),\n",
              " Text(0.5, 0, '$X_1$'),\n",
              " Text(0.5, 1.0, 'TSNE visualization of GCN embeddings for cora dataset'),\n",
              " None]"
            ]
          },
          "metadata": {},
          "execution_count": 34
        },
        {
          "output_type": "display_data",
          "data": {
            "text/plain": [
              "<Figure size 504x504 with 1 Axes>"
            ],
            "image/png": "[encoded data removed]"
          },
          "metadata": {
            "needs_background": "light"
          }
        }
      ]
    },
    {
      "cell_type": "markdown",
      "source": [
        "# Conclusion"
      ],
      "metadata": {
        "id": "00ZEJ0ZZIHn-"
      }
    },
    {
      "cell_type": "markdown",
      "source": [
        "This notebook gave an example using the GCN algorithm to predict the class of nodes. Specifically, the subject of an academic paper in the Cora dataset. Our model used:\n",
        "\n",
        "* the graph structure of the dataset, in the form of citation links between papers\n",
        "* the 1433-dimensional feature vectors associated with each paper\n",
        "Once we trained a model for prediction, we could:\n",
        "\n",
        "* predict the classes of nodes\n",
        "* use the model’s weights to compute vector embeddings for nodes\n",
        "\n",
        "This notebook ran through the following steps:\n",
        "\n",
        "* prepared the data using common data science libraries\n",
        "* built a TensorFlow Keras model and data generator with the StellarGraph library\n",
        "* trained and evaluated it using TensorFlow and other libraries\n",
        "StellarGraph includes other algorithms for node classification and algorithms and demos for other tasks. Most can be applied with the same basic structure as this GCN demo."
      ],
      "metadata": {
        "id": "oHB9ATonILsF"
      }
    },
    {
      "cell_type": "code",
      "source": [],
      "metadata": {
        "id": "m3LY1hj6IDAu"
      },
      "execution_count": null,
      "outputs": []
    }
  ]
}